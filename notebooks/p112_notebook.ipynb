{
 "cells": [
  {
   "cell_type": "markdown",
   "id": "7f01c96d",
   "metadata": {},
   "source": [
    "# Problem 112 - Bouncy numbers"
   ]
  },
  {
   "cell_type": "markdown",
   "id": "8c4b1dc7",
   "metadata": {},
   "source": [
    "## Description\n",
    "\n",
    "Working from left-to-right if no digit is exceeded by the digit to its left it is called an increasing number; for example, 134468.\n",
    "\n",
    "Similarly if no digit is exceeded by the digit to its right it is called a decreasing number; for example, 66420.\n",
    "\n",
    "We shall call a positive integer that is neither increasing nor decreasing a \"bouncy\" number; for example, 155349.\n",
    "\n",
    "Clearly there cannot be any bouncy numbers below one-hundred, but just over half of the numbers below one-thousand (525) are bouncy. In fact, the least number for which the proportion of bouncy numbers first reaches 50% is 538.\n",
    "\n",
    "Surprisingly, bouncy numbers become more and more common and by the time we reach 21780 the proportion of bouncy numbers is equal to 90%.\n",
    "\n",
    "**Find the least number for which the proportion of bouncy numbers is exactly 99%.**\n"
   ]
  },
  {
   "cell_type": "code",
   "execution_count": 1,
   "id": "afc6f138",
   "metadata": {},
   "outputs": [],
   "source": [
    "def num_rel(a, b):\n",
    "    '''\n",
    "        Returns the relation of two numbers\n",
    "    '''\n",
    "    if a < b:\n",
    "        return 'inc'\n",
    "    elif a > b:\n",
    "        return 'dec'\n",
    "    else:\n",
    "        return 'equal'"
   ]
  },
  {
   "cell_type": "code",
   "execution_count": 2,
   "id": "73c0fd73",
   "metadata": {},
   "outputs": [
    {
     "data": {
      "text/plain": [
       "'dec'"
      ]
     },
     "execution_count": 2,
     "metadata": {},
     "output_type": "execute_result"
    }
   ],
   "source": [
    "num_rel(4, 3)"
   ]
  },
  {
   "cell_type": "code",
   "execution_count": 3,
   "id": "905c4494",
   "metadata": {},
   "outputs": [],
   "source": [
    "def bouncy_check(n):\n",
    "    '''\n",
    "        Returns 1 if n is bouncy\n",
    "    '''\n",
    "    if n < 100: return 0\n",
    "\n",
    "    seq = list(map(int, list(str(n))))\n",
    "    i = 0\n",
    "    \n",
    "    while num_rel(seq[i], seq[i+1]) == 'equal':\n",
    "        if i == len(seq)-2:\n",
    "            return 0\n",
    "        i+=1\n",
    "  \n",
    "    prov_monotony = num_rel(seq[i], seq[i+1])\n",
    "    \n",
    "    while i <= len(seq)-2:\n",
    "        if num_rel(seq[i], seq[i+1]) not in [prov_monotony, 'equal']:\n",
    "            return 1\n",
    "        i+=1\n",
    "    \n",
    "    return 0"
   ]
  },
  {
   "cell_type": "code",
   "execution_count": 87,
   "id": "f742b1a8",
   "metadata": {},
   "outputs": [
    {
     "data": {
      "text/plain": [
       "0"
      ]
     },
     "execution_count": 87,
     "metadata": {},
     "output_type": "execute_result"
    }
   ],
   "source": [
    "bouncy_check(66420)"
   ]
  },
  {
   "cell_type": "code",
   "execution_count": 90,
   "id": "98fd186e",
   "metadata": {},
   "outputs": [
    {
     "name": "stdout",
     "output_type": "stream",
     "text": [
      "0.525\n"
     ]
    }
   ],
   "source": [
    "MAX = 1000\n",
    "bouncy_num = 0\n",
    "\n",
    "for n in range(1, MAX):\n",
    "    if bouncy_check(n):\n",
    "        bouncy_num += 1\n",
    "\n",
    "print(bouncy_num/MAX)"
   ]
  },
  {
   "cell_type": "code",
   "execution_count": 78,
   "id": "614fb880",
   "metadata": {
    "collapsed": true
   },
   "outputs": [
    {
     "name": "stdout",
     "output_type": "stream",
     "text": [
      "1 non_bouncy\n",
      "2 non_bouncy\n",
      "3 non_bouncy\n",
      "4 non_bouncy\n",
      "5 non_bouncy\n",
      "6 non_bouncy\n",
      "7 non_bouncy\n",
      "8 non_bouncy\n",
      "9 non_bouncy\n",
      "10 non_bouncy\n",
      "11 non_bouncy\n",
      "12 non_bouncy\n",
      "13 non_bouncy\n",
      "14 non_bouncy\n",
      "15 non_bouncy\n",
      "16 non_bouncy\n",
      "17 non_bouncy\n",
      "18 non_bouncy\n",
      "19 non_bouncy\n",
      "20 non_bouncy\n",
      "21 non_bouncy\n",
      "22 non_bouncy\n",
      "23 non_bouncy\n",
      "24 non_bouncy\n",
      "25 non_bouncy\n",
      "26 non_bouncy\n",
      "27 non_bouncy\n",
      "28 non_bouncy\n",
      "29 non_bouncy\n",
      "30 non_bouncy\n",
      "31 non_bouncy\n",
      "32 non_bouncy\n",
      "33 non_bouncy\n",
      "34 non_bouncy\n",
      "35 non_bouncy\n",
      "36 non_bouncy\n",
      "37 non_bouncy\n",
      "38 non_bouncy\n",
      "39 non_bouncy\n",
      "40 non_bouncy\n",
      "41 non_bouncy\n",
      "42 non_bouncy\n",
      "43 non_bouncy\n",
      "44 non_bouncy\n",
      "45 non_bouncy\n",
      "46 non_bouncy\n",
      "47 non_bouncy\n",
      "48 non_bouncy\n",
      "49 non_bouncy\n",
      "50 non_bouncy\n",
      "51 non_bouncy\n",
      "52 non_bouncy\n",
      "53 non_bouncy\n",
      "54 non_bouncy\n",
      "55 non_bouncy\n",
      "56 non_bouncy\n",
      "57 non_bouncy\n",
      "58 non_bouncy\n",
      "59 non_bouncy\n",
      "60 non_bouncy\n",
      "61 non_bouncy\n",
      "62 non_bouncy\n",
      "63 non_bouncy\n",
      "64 non_bouncy\n",
      "65 non_bouncy\n",
      "66 non_bouncy\n",
      "67 non_bouncy\n",
      "68 non_bouncy\n",
      "69 non_bouncy\n",
      "70 non_bouncy\n",
      "71 non_bouncy\n",
      "72 non_bouncy\n",
      "73 non_bouncy\n",
      "74 non_bouncy\n",
      "75 non_bouncy\n",
      "76 non_bouncy\n",
      "77 non_bouncy\n",
      "78 non_bouncy\n",
      "79 non_bouncy\n",
      "80 non_bouncy\n",
      "81 non_bouncy\n",
      "82 non_bouncy\n",
      "83 non_bouncy\n",
      "84 non_bouncy\n",
      "85 non_bouncy\n",
      "86 non_bouncy\n",
      "87 non_bouncy\n",
      "88 non_bouncy\n",
      "89 non_bouncy\n",
      "90 non_bouncy\n",
      "91 non_bouncy\n",
      "92 non_bouncy\n",
      "93 non_bouncy\n",
      "94 non_bouncy\n",
      "95 non_bouncy\n",
      "96 non_bouncy\n",
      "97 non_bouncy\n",
      "98 non_bouncy\n",
      "99 non_bouncy\n",
      "100 non_bouncy\n",
      "101 bouncy\n",
      "102 bouncy\n",
      "103 bouncy\n",
      "104 bouncy\n",
      "105 bouncy\n",
      "106 bouncy\n",
      "107 bouncy\n",
      "108 bouncy\n",
      "109 bouncy\n",
      "110 bouncy\n",
      "111 non_bouncy\n",
      "112 bouncy\n",
      "113 bouncy\n",
      "114 bouncy\n",
      "115 bouncy\n",
      "116 bouncy\n",
      "117 bouncy\n",
      "118 bouncy\n",
      "119 bouncy\n",
      "120 bouncy\n",
      "121 bouncy\n",
      "122 non_bouncy\n",
      "123 non_bouncy\n",
      "124 non_bouncy\n",
      "125 non_bouncy\n",
      "126 non_bouncy\n",
      "127 non_bouncy\n",
      "128 non_bouncy\n",
      "129 non_bouncy\n",
      "130 bouncy\n",
      "131 bouncy\n",
      "132 bouncy\n",
      "133 non_bouncy\n",
      "134 non_bouncy\n",
      "135 non_bouncy\n",
      "136 non_bouncy\n",
      "137 non_bouncy\n",
      "138 non_bouncy\n",
      "139 non_bouncy\n",
      "140 bouncy\n",
      "141 bouncy\n",
      "142 bouncy\n",
      "143 bouncy\n",
      "144 non_bouncy\n",
      "145 non_bouncy\n",
      "146 non_bouncy\n",
      "147 non_bouncy\n",
      "148 non_bouncy\n",
      "149 non_bouncy\n",
      "150 bouncy\n",
      "151 bouncy\n",
      "152 bouncy\n",
      "153 bouncy\n",
      "154 bouncy\n",
      "155 non_bouncy\n",
      "156 non_bouncy\n",
      "157 non_bouncy\n",
      "158 non_bouncy\n",
      "159 non_bouncy\n",
      "160 bouncy\n",
      "161 bouncy\n",
      "162 bouncy\n",
      "163 bouncy\n",
      "164 bouncy\n",
      "165 bouncy\n",
      "166 non_bouncy\n",
      "167 non_bouncy\n",
      "168 non_bouncy\n",
      "169 non_bouncy\n",
      "170 bouncy\n",
      "171 bouncy\n",
      "172 bouncy\n",
      "173 bouncy\n",
      "174 bouncy\n",
      "175 bouncy\n",
      "176 bouncy\n",
      "177 non_bouncy\n",
      "178 non_bouncy\n",
      "179 non_bouncy\n",
      "180 bouncy\n",
      "181 bouncy\n",
      "182 bouncy\n",
      "183 bouncy\n",
      "184 bouncy\n",
      "185 bouncy\n",
      "186 bouncy\n",
      "187 bouncy\n",
      "188 non_bouncy\n",
      "189 non_bouncy\n",
      "190 bouncy\n",
      "191 bouncy\n",
      "192 bouncy\n",
      "193 bouncy\n",
      "194 bouncy\n",
      "195 bouncy\n",
      "196 bouncy\n",
      "197 bouncy\n",
      "198 bouncy\n",
      "199 non_bouncy\n"
     ]
    }
   ],
   "source": [
    "for i in range(1, 200):\n",
    "    if bouncy_check(i):\n",
    "        state = 'bouncy'\n",
    "    else:\n",
    "        state = 'non_bouncy'\n",
    "    print(i, state)"
   ]
  },
  {
   "cell_type": "code",
   "execution_count": 104,
   "id": "6c7cbfa7",
   "metadata": {},
   "outputs": [
    {
     "name": "stdout",
     "output_type": "stream",
     "text": [
      "1587002\n"
     ]
    }
   ],
   "source": [
    "i = 1\n",
    "bouncy_num = 0\n",
    "perc = 0\n",
    "\n",
    "while perc <= 0.99:\n",
    "    if bouncy_check(i):\n",
    "        bouncy_num += 1 \n",
    "    perc = bouncy_num/i\n",
    "    i += 1    \n",
    "\n",
    "print(i)"
   ]
  },
  {
   "cell_type": "code",
   "execution_count": 11,
   "id": "07a5d2ab",
   "metadata": {},
   "outputs": [],
   "source": [
    "import time"
   ]
  },
  {
   "cell_type": "code",
   "execution_count": 20,
   "id": "2f41442f",
   "metadata": {},
   "outputs": [
    {
     "name": "stdout",
     "output_type": "stream",
     "text": [
      "19.886327028274536\n"
     ]
    }
   ],
   "source": [
    "start = time.time()\n",
    "\n",
    "for i in range(10**100 - 1_000_000, 10**100):\n",
    "    bouncy_check(i)\n",
    "    \n",
    "print(time.time() - start)"
   ]
  },
  {
   "cell_type": "code",
   "execution_count": null,
   "id": "317cddc1",
   "metadata": {},
   "outputs": [],
   "source": []
  }
 ],
 "metadata": {
  "kernelspec": {
   "display_name": "Python 3 (ipykernel)",
   "language": "python",
   "name": "python3"
  },
  "language_info": {
   "codemirror_mode": {
    "name": "ipython",
    "version": 3
   },
   "file_extension": ".py",
   "mimetype": "text/x-python",
   "name": "python",
   "nbconvert_exporter": "python",
   "pygments_lexer": "ipython3",
   "version": "3.9.7"
  }
 },
 "nbformat": 4,
 "nbformat_minor": 5
}
