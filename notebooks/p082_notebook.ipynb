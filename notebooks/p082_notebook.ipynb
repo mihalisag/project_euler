{
 "cells": [
  {
   "cell_type": "markdown",
   "id": "709aeb96",
   "metadata": {},
   "source": [
    "# Path sum: three ways"
   ]
  },
  {
   "cell_type": "code",
   "execution_count": 6,
   "id": "21763d3c",
   "metadata": {},
   "outputs": [],
   "source": [
    "with open('./p082_matrix.txt') as f:\n",
    "    matrix = [[int(n) for n in line.split(',')] for line in f]\n",
    "              \n",
    "rows = len(matrix)\n",
    "cols = len(matrix[0])        "
   ]
  },
  {
   "cell_type": "code",
   "execution_count": 7,
   "id": "b3f8bc17",
   "metadata": {},
   "outputs": [],
   "source": [
    "test_matrix = [  [131, 673, 234, 103, 18],\n",
    "            [201, 96, 342, 965, 150], \n",
    "            [630, 803, 746, 422, 111],\n",
    "            [537, 699, 497, 121, 956], \n",
    "            [805, 732, 524, 37, 331]   ]"
   ]
  },
  {
   "cell_type": "code",
   "execution_count": 15,
   "id": "9789b184",
   "metadata": {},
   "outputs": [],
   "source": [
    "def min_cost(cost, row, col):\n",
    "    \n",
    "    # For 1st column\n",
    "    for i in range(1, row):\n",
    "        cost[i][0] += cost[i - 1][0]\n",
    "\n",
    "    # For 1st row\n",
    "    for j in range(1, col):\n",
    "        cost[0][j] += cost[0][j - 1]\n",
    "\n",
    "    # For rest of the 2d matrix\n",
    "    for i in range(1, row - 1):\n",
    "        for j in range(1, col):\n",
    "            cost[i][j] += min(cost[i][j - 1], cost[i - 1][j], cost[i + 1][j])\n",
    "\n",
    "    # Returning the value in last cell\n",
    "    return cost[row - 1][col - 1]"
   ]
  },
  {
   "cell_type": "code",
   "execution_count": 16,
   "id": "f23f0726",
   "metadata": {},
   "outputs": [
    {
     "name": "stdout",
     "output_type": "stream",
     "text": [
      "331\n"
     ]
    }
   ],
   "source": [
    "print(min_cost(test_matrix, 5, 5))"
   ]
  },
  {
   "cell_type": "code",
   "execution_count": 12,
   "id": "48dac605",
   "metadata": {},
   "outputs": [
    {
     "ename": "NameError",
     "evalue": "name 'cost' is not defined",
     "output_type": "error",
     "traceback": [
      "\u001b[0;31m---------------------------------------------------------------------------\u001b[0m",
      "\u001b[0;31mNameError\u001b[0m                                 Traceback (most recent call last)",
      "\u001b[0;32m/var/folders/7y/hz3mq04x05sbc72v7q20td7m0000gn/T/ipykernel_1289/1330154178.py\u001b[0m in \u001b[0;36m<module>\u001b[0;34m\u001b[0m\n\u001b[0;32m----> 1\u001b[0;31m \u001b[0mcost\u001b[0m\u001b[0;34m\u001b[0m\u001b[0;34m\u001b[0m\u001b[0m\n\u001b[0m",
      "\u001b[0;31mNameError\u001b[0m: name 'cost' is not defined"
     ]
    }
   ],
   "source": []
  },
  {
   "cell_type": "code",
   "execution_count": null,
   "id": "27a5176c",
   "metadata": {},
   "outputs": [],
   "source": []
  }
 ],
 "metadata": {
  "kernelspec": {
   "display_name": "Python 3 (ipykernel)",
   "language": "python",
   "name": "python3"
  },
  "language_info": {
   "codemirror_mode": {
    "name": "ipython",
    "version": 3
   },
   "file_extension": ".py",
   "mimetype": "text/x-python",
   "name": "python",
   "nbconvert_exporter": "python",
   "pygments_lexer": "ipython3",
   "version": "3.9.7"
  }
 },
 "nbformat": 4,
 "nbformat_minor": 5
}
