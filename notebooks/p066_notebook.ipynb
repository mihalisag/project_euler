{
 "cells": [
  {
   "cell_type": "markdown",
   "id": "de538998",
   "metadata": {},
   "source": [
    "# Problem 66 - Diophantine Equation "
   ]
  },
  {
   "cell_type": "markdown",
   "id": "262ddc1e",
   "metadata": {},
   "source": [
    "The fundamental solution may be found by performing the continued fraction expansion and testing each successive convergent until a solution to Pell's equation is found."
   ]
  },
  {
   "cell_type": "code",
   "execution_count": 26,
   "id": "e27d3e2b",
   "metadata": {},
   "outputs": [],
   "source": [
    "import math\n",
    "\n",
    "def continued_fraction(n):\n",
    "    '''\n",
    "        Returns the terms of the continued fraction expansion\n",
    "    '''\n",
    "    r = n\n",
    "    f = 1\n",
    "    terms = []\n",
    "    \n",
    "    while f >= 1e-10:\n",
    "        a_i = math.floor(r)\n",
    "        if a_i == r:\n",
    "            return [n]\n",
    "        terms.append(a_i)\n",
    "        if a_i == 2*terms[0]:\n",
    "            r = 0 # end the process for irrational square roots\n",
    "        f = r - a_i\n",
    "        r = 1 / f\n",
    "        \n",
    "    return terms"
   ]
  },
  {
   "cell_type": "code",
   "execution_count": 27,
   "id": "a4807bc4",
   "metadata": {
    "scrolled": true
   },
   "outputs": [
    {
     "data": {
      "text/plain": [
       "[4, 2, 6, 7]"
      ]
     },
     "execution_count": 27,
     "metadata": {},
     "output_type": "execute_result"
    }
   ],
   "source": [
    "continued_fraction(415/93)"
   ]
  },
  {
   "cell_type": "code",
   "execution_count": null,
   "id": "4c1cb4a6",
   "metadata": {},
   "outputs": [],
   "source": [
    "def pells_equation(D):\n",
    "    ''' \n",
    "        Returns the\n",
    "    '''"
   ]
  }
 ],
 "metadata": {
  "kernelspec": {
   "display_name": "Python 3 (ipykernel)",
   "language": "python",
   "name": "python3"
  },
  "language_info": {
   "codemirror_mode": {
    "name": "ipython",
    "version": 3
   },
   "file_extension": ".py",
   "mimetype": "text/x-python",
   "name": "python",
   "nbconvert_exporter": "python",
   "pygments_lexer": "ipython3",
   "version": "3.9.7"
  }
 },
 "nbformat": 4,
 "nbformat_minor": 5
}
