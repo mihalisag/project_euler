{
 "cells": [
  {
   "cell_type": "markdown",
   "source": [
    "# Pythagorean triples"
   ],
   "metadata": {}
  },
  {
   "cell_type": "code",
   "execution_count": 27,
   "source": [
    "import math\n",
    "\n",
    "def pyth_triples_v1(perim):\n",
    "    '''\n",
    "        Generates pythagorean triples from given perimeter using the formula with m, n.\n",
    "        (a, b, c) where a^2 + b^2 = c^2\n",
    "    '''\n",
    "    solutions = []\n",
    "    upper_limit = math.floor(math.sqrt(perim / 2))\n",
    "\n",
    "    for n in range(1, perim):\n",
    "\n",
    "        for m in range(n + 1, perim):\n",
    "\n",
    "            a = m**2 - n**2\n",
    "            b = 2*n*m\n",
    "            c = m**2 + n**2\n",
    "\n",
    "            triple = {a, b, c}\n",
    "            # print(triple)\n",
    "            \n",
    "            g = perim / sum(triple)\n",
    "            # print(g)\n",
    "\n",
    "            if g % 1 == 0: triple = {g*a, g*b, g*c}\n",
    "\n",
    "            if sum(triple) == perim and triple not in solutions:\n",
    "                solutions.append(triple)\n",
    "                print(m, n)\n",
    "\n",
    "\n",
    "    return solutions"
   ],
   "outputs": [],
   "metadata": {}
  },
  {
   "cell_type": "code",
   "execution_count": 34,
   "source": [
    "pyth_triples_v1(12)"
   ],
   "outputs": [
    {
     "output_type": "stream",
     "name": "stdout",
     "text": [
      "2 1\n"
     ]
    },
    {
     "output_type": "execute_result",
     "data": {
      "text/plain": [
       "[{3.0, 4.0, 5.0}]"
      ]
     },
     "metadata": {},
     "execution_count": 34
    }
   ],
   "metadata": {}
  },
  {
   "cell_type": "code",
   "execution_count": 35,
   "source": [
    "pyth_triples_v1(30)"
   ],
   "outputs": [
    {
     "output_type": "stream",
     "name": "stdout",
     "text": [
      "3 2\n"
     ]
    },
    {
     "output_type": "execute_result",
     "data": {
      "text/plain": [
       "[{5.0, 12.0, 13.0}]"
      ]
     },
     "metadata": {},
     "execution_count": 35
    }
   ],
   "metadata": {}
  },
  {
   "cell_type": "code",
   "execution_count": 36,
   "source": [
    "pyth_triples_v1(120)"
   ],
   "outputs": [
    {
     "output_type": "stream",
     "name": "stdout",
     "text": [
      "2 1\n",
      "4 1\n",
      "5 1\n"
     ]
    },
    {
     "output_type": "execute_result",
     "data": {
      "text/plain": [
       "[{30.0, 40.0, 50.0}, {24.0, 45.0, 51.0}, {20.0, 48.0, 52.0}]"
      ]
     },
     "metadata": {},
     "execution_count": 36
    }
   ],
   "metadata": {}
  },
  {
   "cell_type": "code",
   "execution_count": 30,
   "source": [
    "import math\n",
    "\n",
    "def pyth_triples_v2(perim):\n",
    "    '''\n",
    "        Generates pythagorean triples from given perimeter using the formula with m, n.\n",
    "        (a, b, c) where a^2 + b^2 = c^2\n",
    "    '''\n",
    "\n",
    "    triple_list = []\n",
    "\n",
    "    for a in range(1, perim):\n",
    "        for b in range(a + 1, perim):\n",
    "            c = math.sqrt(a ** 2 + b **2)\n",
    "            if c.is_integer() and a + b + c == perim:\n",
    "                triple = {a, b, int(c)}\n",
    "                if triple not in triple_list:\n",
    "                    triple_list.append(triple)\n",
    "    \n",
    "    return triple_list"
   ],
   "outputs": [],
   "metadata": {}
  },
  {
   "cell_type": "code",
   "execution_count": 1,
   "source": [
    "import math\n",
    "\n",
    "def pyth_triples_v3(perim):\n",
    "    '''\n",
    "        Generates pythagorean triples from given perimeter using the formula with m, n.\n",
    "        (a, b, c) where a^2 + b^2 = c^2\n",
    "    '''\n",
    "\n",
    "    triple_list = []\n",
    "\n",
    "    for a in range(1, perim):\n",
    "        LIMIT = perim - a\n",
    "        for b in range(a + 1, LIMIT):\n",
    "            c = math.sqrt(a ** 2 + b **2)\n",
    "            if c.is_integer() and a + b + c == perim:\n",
    "                triple = {a, b, int(c)}\n",
    "                if triple not in triple_list:\n",
    "                    triple_list.append(triple)\n",
    "    \n",
    "    return triple_list"
   ],
   "outputs": [],
   "metadata": {}
  },
  {
   "cell_type": "code",
   "execution_count": 8,
   "source": [
    "import math\n",
    "\n",
    "def pyth_triples_v4(perim):\n",
    "    '''\n",
    "        Generates pythagorean triples from given perimeter using the formula with m, n.\n",
    "        (a, b, c) where a^2 + b^2 = c^2\n",
    "    '''\n",
    "\n",
    "    triple_list = []\n",
    "\n",
    "    for a in range(1, perim):\n",
    "        LIMIT = perim - a\n",
    "        for b in range(a + 1, LIMIT):\n",
    "            c = perim - (a+b)\n",
    "            if c > 0 and c == math.sqrt(a**2 + b**2):\n",
    "                triple = {a, b, int(c)}\n",
    "                if triple not in triple_list:\n",
    "                    triple_list.append(triple)\n",
    "    \n",
    "    return triple_list"
   ],
   "outputs": [],
   "metadata": {}
  },
  {
   "cell_type": "code",
   "execution_count": 1,
   "source": [
    "pyth_triples_v1(40)"
   ],
   "outputs": [
    {
     "output_type": "error",
     "ename": "NameError",
     "evalue": "name 'pyth_triples_v1' is not defined",
     "traceback": [
      "\u001b[0;31m---------------------------------------------------------------------------\u001b[0m",
      "\u001b[0;31mNameError\u001b[0m                                 Traceback (most recent call last)",
      "\u001b[0;32m/tmp/ipykernel_2175/801701504.py\u001b[0m in \u001b[0;36m<module>\u001b[0;34m\u001b[0m\n\u001b[0;32m----> 1\u001b[0;31m \u001b[0mpyth_triples_v1\u001b[0m\u001b[0;34m(\u001b[0m\u001b[0;36m40\u001b[0m\u001b[0;34m)\u001b[0m\u001b[0;34m\u001b[0m\u001b[0;34m\u001b[0m\u001b[0m\n\u001b[0m",
      "\u001b[0;31mNameError\u001b[0m: name 'pyth_triples_v1' is not defined"
     ]
    }
   ],
   "metadata": {}
  },
  {
   "cell_type": "code",
   "execution_count": 42,
   "source": [
    "pyth_triples_v2(4000)"
   ],
   "outputs": [
    {
     "output_type": "execute_result",
     "data": {
      "text/plain": [
       "[{800, 1500, 1700}, {875, 1440, 1685}]"
      ]
     },
     "metadata": {},
     "execution_count": 42
    }
   ],
   "metadata": {}
  },
  {
   "cell_type": "code",
   "execution_count": 2,
   "source": [
    "pyth_triples_v3(4000)"
   ],
   "outputs": [
    {
     "output_type": "execute_result",
     "data": {
      "text/plain": [
       "[{800, 1500, 1700}, {875, 1440, 1685}]"
      ]
     },
     "metadata": {},
     "execution_count": 2
    }
   ],
   "metadata": {}
  },
  {
   "cell_type": "code",
   "execution_count": 9,
   "source": [
    "pyth_triples_v4(4000)"
   ],
   "outputs": [
    {
     "output_type": "execute_result",
     "data": {
      "text/plain": [
       "[{800, 1500, 1700}, {875, 1440, 1685}]"
      ]
     },
     "metadata": {},
     "execution_count": 9
    }
   ],
   "metadata": {}
  },
  {
   "cell_type": "code",
   "execution_count": 40,
   "source": [
    "from functools import reduce\n",
    "\n",
    "def gcd_of(l):\n",
    "\treturn reduce(math.gcd, l)"
   ],
   "outputs": [],
   "metadata": {}
  },
  {
   "cell_type": "code",
   "execution_count": 41,
   "source": [
    "gcd_of([2, 4, 8])"
   ],
   "outputs": [
    {
     "output_type": "execute_result",
     "data": {
      "text/plain": [
       "2"
      ]
     },
     "metadata": {},
     "execution_count": 41
    }
   ],
   "metadata": {}
  },
  {
   "cell_type": "code",
   "execution_count": 42,
   "source": [
    "math.gcd(2, 8)"
   ],
   "outputs": [
    {
     "output_type": "execute_result",
     "data": {
      "text/plain": [
       "2"
      ]
     },
     "metadata": {},
     "execution_count": 42
    }
   ],
   "metadata": {}
  },
  {
   "cell_type": "code",
   "execution_count": null,
   "source": [],
   "outputs": [],
   "metadata": {}
  }
 ],
 "metadata": {
  "orig_nbformat": 4,
  "language_info": {
   "name": "python"
  }
 },
 "nbformat": 4,
 "nbformat_minor": 2
}