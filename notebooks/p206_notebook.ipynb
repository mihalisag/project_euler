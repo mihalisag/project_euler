{
 "cells": [
  {
   "cell_type": "markdown",
   "id": "721672b3",
   "metadata": {},
   "source": [
    "# Problem 206 - Concealed square"
   ]
  },
  {
   "cell_type": "markdown",
   "id": "4016eb79",
   "metadata": {},
   "source": [
    "Find the unique positive integer whose square has the form 1_2_3_4_5_6_7_8_9_0,\n",
    "where each “_” is a single digit."
   ]
  },
  {
   "cell_type": "code",
   "execution_count": 37,
   "id": "52602520",
   "metadata": {
    "scrolled": true
   },
   "outputs": [],
   "source": [
    "import math\n",
    "\n",
    "def square_check(n):\n",
    "    sq_root = int(math.sqrt(n))\n",
    "    return (sq_root*sq_root) == n"
   ]
  },
  {
   "cell_type": "code",
   "execution_count": 44,
   "id": "046f6f90",
   "metadata": {
    "scrolled": true
   },
   "outputs": [
    {
     "data": {
      "text/plain": [
       "True"
      ]
     },
     "execution_count": 44,
     "metadata": {},
     "output_type": "execute_result"
    }
   ],
   "source": [
    "square_check((12451539**2)**2)"
   ]
  },
  {
   "cell_type": "code",
   "execution_count": 43,
   "id": "a260bd61",
   "metadata": {},
   "outputs": [
    {
     "data": {
      "text/plain": [
       "24037656941797092085077927441"
      ]
     },
     "execution_count": 43,
     "metadata": {},
     "output_type": "execute_result"
    }
   ],
   "source": [
    "(12451539**2)**2"
   ]
  },
  {
   "cell_type": "code",
   "execution_count": 46,
   "id": "311ac778",
   "metadata": {},
   "outputs": [
    {
     "name": "stderr",
     "output_type": "stream",
     "text": [
      "243565130it [13:23, 303017.35it/s]\n"
     ]
    },
    {
     "ename": "KeyboardInterrupt",
     "evalue": "",
     "output_type": "error",
     "traceback": [
      "\u001b[0;31m---------------------------------------------------------------------------\u001b[0m",
      "\u001b[0;31mKeyboardInterrupt\u001b[0m                         Traceback (most recent call last)",
      "\u001b[0;32m/var/folders/7y/hz3mq04x05sbc72v7q20td7m0000gn/T/ipykernel_1729/1777071320.py\u001b[0m in \u001b[0;36m<module>\u001b[0;34m\u001b[0m\n\u001b[1;32m      7\u001b[0m \u001b[0;34m\u001b[0m\u001b[0m\n\u001b[1;32m      8\u001b[0m \u001b[0;32mfor\u001b[0m \u001b[0;34m[\u001b[0m\u001b[0ma\u001b[0m\u001b[0;34m,\u001b[0m \u001b[0mb\u001b[0m\u001b[0;34m,\u001b[0m \u001b[0mc\u001b[0m\u001b[0;34m,\u001b[0m \u001b[0md\u001b[0m\u001b[0;34m,\u001b[0m \u001b[0me\u001b[0m\u001b[0;34m,\u001b[0m \u001b[0mf\u001b[0m\u001b[0;34m,\u001b[0m \u001b[0mg\u001b[0m\u001b[0;34m,\u001b[0m \u001b[0mh\u001b[0m\u001b[0;34m,\u001b[0m \u001b[0mi\u001b[0m\u001b[0;34m]\u001b[0m \u001b[0;32min\u001b[0m \u001b[0mtqdm\u001b[0m\u001b[0;34m(\u001b[0m\u001b[0mitertools\u001b[0m\u001b[0;34m.\u001b[0m\u001b[0mproduct\u001b[0m\u001b[0;34m(\u001b[0m\u001b[0mnumbers\u001b[0m\u001b[0;34m,\u001b[0m \u001b[0mrepeat\u001b[0m\u001b[0;34m=\u001b[0m\u001b[0;36m9\u001b[0m\u001b[0;34m)\u001b[0m\u001b[0;34m)\u001b[0m\u001b[0;34m:\u001b[0m\u001b[0;34m\u001b[0m\u001b[0;34m\u001b[0m\u001b[0m\n\u001b[0;32m----> 9\u001b[0;31m     \u001b[0mnum\u001b[0m \u001b[0;34m=\u001b[0m \u001b[0mdigit_replace\u001b[0m\u001b[0;34m(\u001b[0m\u001b[0mnum\u001b[0m\u001b[0;34m,\u001b[0m \u001b[0;34m[\u001b[0m\u001b[0ma\u001b[0m\u001b[0;34m,\u001b[0m \u001b[0mb\u001b[0m\u001b[0;34m,\u001b[0m \u001b[0mc\u001b[0m\u001b[0;34m,\u001b[0m \u001b[0md\u001b[0m\u001b[0;34m,\u001b[0m \u001b[0me\u001b[0m\u001b[0;34m,\u001b[0m \u001b[0mf\u001b[0m\u001b[0;34m,\u001b[0m \u001b[0mg\u001b[0m\u001b[0;34m,\u001b[0m \u001b[0mh\u001b[0m\u001b[0;34m,\u001b[0m \u001b[0mi\u001b[0m\u001b[0;34m]\u001b[0m\u001b[0;34m,\u001b[0m \u001b[0mpos_list\u001b[0m\u001b[0;34m)\u001b[0m\u001b[0;34m\u001b[0m\u001b[0;34m\u001b[0m\u001b[0m\n\u001b[0m\u001b[1;32m     10\u001b[0m     \u001b[0;32mif\u001b[0m \u001b[0msquare_check\u001b[0m\u001b[0;34m(\u001b[0m\u001b[0mnum\u001b[0m\u001b[0;34m)\u001b[0m\u001b[0;34m:\u001b[0m\u001b[0;34m\u001b[0m\u001b[0;34m\u001b[0m\u001b[0m\n\u001b[1;32m     11\u001b[0m         \u001b[0mprint\u001b[0m\u001b[0;34m(\u001b[0m\u001b[0mnum\u001b[0m\u001b[0;34m)\u001b[0m\u001b[0;34m\u001b[0m\u001b[0;34m\u001b[0m\u001b[0m\n",
      "\u001b[0;32m/var/folders/7y/hz3mq04x05sbc72v7q20td7m0000gn/T/ipykernel_1729/2690282404.py\u001b[0m in \u001b[0;36mdigit_replace\u001b[0;34m(num, k_list, pos_list)\u001b[0m\n\u001b[1;32m      3\u001b[0m         \u001b[0mReplaces\u001b[0m \u001b[0mpth\u001b[0m \u001b[0mdigit\u001b[0m \u001b[0;34m(\u001b[0m\u001b[0mp\u001b[0m \u001b[0;32mfrom\u001b[0m \u001b[0ma\u001b[0m \u001b[0mposition\u001b[0m \u001b[0mlist\u001b[0m\u001b[0;34m)\u001b[0m \u001b[0mof\u001b[0m \u001b[0mn\u001b[0m \u001b[0;32mwith\u001b[0m \u001b[0mk\u001b[0m \u001b[0;34m(\u001b[0m\u001b[0;32mfrom\u001b[0m \u001b[0ma\u001b[0m \u001b[0mk_list\u001b[0m\u001b[0;34m)\u001b[0m\u001b[0;34m\u001b[0m\u001b[0;34m\u001b[0m\u001b[0m\n\u001b[1;32m      4\u001b[0m     '''\n\u001b[0;32m----> 5\u001b[0;31m     \u001b[0mnum\u001b[0m \u001b[0;34m=\u001b[0m \u001b[0mstr\u001b[0m\u001b[0;34m(\u001b[0m\u001b[0mnum\u001b[0m\u001b[0;34m)\u001b[0m\u001b[0;34m\u001b[0m\u001b[0;34m\u001b[0m\u001b[0m\n\u001b[0m\u001b[1;32m      6\u001b[0m     \u001b[0mp_to_k\u001b[0m \u001b[0;34m=\u001b[0m \u001b[0mdict\u001b[0m\u001b[0;34m(\u001b[0m\u001b[0mzip\u001b[0m\u001b[0;34m(\u001b[0m\u001b[0mpos_list\u001b[0m\u001b[0;34m,\u001b[0m \u001b[0mk_list\u001b[0m\u001b[0;34m)\u001b[0m\u001b[0;34m)\u001b[0m\u001b[0;34m\u001b[0m\u001b[0;34m\u001b[0m\u001b[0m\n\u001b[1;32m      7\u001b[0m     \u001b[0mnew_num\u001b[0m \u001b[0;34m=\u001b[0m \u001b[0mnum\u001b[0m\u001b[0;34m\u001b[0m\u001b[0;34m\u001b[0m\u001b[0m\n",
      "\u001b[0;31mKeyboardInterrupt\u001b[0m: "
     ]
    }
   ],
   "source": [
    "import itertools\n",
    "from tqdm import tqdm\n",
    "\n",
    "num = 1929394959697989990\n",
    "numbers = range(10)\n",
    "pos_list = range(2, 20, 2)\n",
    "\n",
    "for [a, b, c, d, e, f, g, h, i] in tqdm(itertools.product(numbers, repeat=9)):\n",
    "    num = digit_replace(num, [a, b, c, d, e, f, g, h, i], pos_list)\n",
    "    if square_check(num):\n",
    "        print(num)"
   ]
  },
  {
   "cell_type": "code",
   "execution_count": 11,
   "id": "683069c0",
   "metadata": {},
   "outputs": [],
   "source": [
    "?? itertools.product"
   ]
  },
  {
   "cell_type": "code",
   "execution_count": 13,
   "id": "3e1d09a4",
   "metadata": {
    "collapsed": true
   },
   "outputs": [
    {
     "data": {
      "text/plain": [
       "[(0, 0),\n",
       " (0, 1),\n",
       " (0, 2),\n",
       " (0, 3),\n",
       " (0, 4),\n",
       " (0, 5),\n",
       " (0, 6),\n",
       " (0, 7),\n",
       " (0, 8),\n",
       " (0, 9),\n",
       " (1, 0),\n",
       " (1, 1),\n",
       " (1, 2),\n",
       " (1, 3),\n",
       " (1, 4),\n",
       " (1, 5),\n",
       " (1, 6),\n",
       " (1, 7),\n",
       " (1, 8),\n",
       " (1, 9),\n",
       " (2, 0),\n",
       " (2, 1),\n",
       " (2, 2),\n",
       " (2, 3),\n",
       " (2, 4),\n",
       " (2, 5),\n",
       " (2, 6),\n",
       " (2, 7),\n",
       " (2, 8),\n",
       " (2, 9),\n",
       " (3, 0),\n",
       " (3, 1),\n",
       " (3, 2),\n",
       " (3, 3),\n",
       " (3, 4),\n",
       " (3, 5),\n",
       " (3, 6),\n",
       " (3, 7),\n",
       " (3, 8),\n",
       " (3, 9),\n",
       " (4, 0),\n",
       " (4, 1),\n",
       " (4, 2),\n",
       " (4, 3),\n",
       " (4, 4),\n",
       " (4, 5),\n",
       " (4, 6),\n",
       " (4, 7),\n",
       " (4, 8),\n",
       " (4, 9),\n",
       " (5, 0),\n",
       " (5, 1),\n",
       " (5, 2),\n",
       " (5, 3),\n",
       " (5, 4),\n",
       " (5, 5),\n",
       " (5, 6),\n",
       " (5, 7),\n",
       " (5, 8),\n",
       " (5, 9),\n",
       " (6, 0),\n",
       " (6, 1),\n",
       " (6, 2),\n",
       " (6, 3),\n",
       " (6, 4),\n",
       " (6, 5),\n",
       " (6, 6),\n",
       " (6, 7),\n",
       " (6, 8),\n",
       " (6, 9),\n",
       " (7, 0),\n",
       " (7, 1),\n",
       " (7, 2),\n",
       " (7, 3),\n",
       " (7, 4),\n",
       " (7, 5),\n",
       " (7, 6),\n",
       " (7, 7),\n",
       " (7, 8),\n",
       " (7, 9),\n",
       " (8, 0),\n",
       " (8, 1),\n",
       " (8, 2),\n",
       " (8, 3),\n",
       " (8, 4),\n",
       " (8, 5),\n",
       " (8, 6),\n",
       " (8, 7),\n",
       " (8, 8),\n",
       " (8, 9),\n",
       " (9, 0),\n",
       " (9, 1),\n",
       " (9, 2),\n",
       " (9, 3),\n",
       " (9, 4),\n",
       " (9, 5),\n",
       " (9, 6),\n",
       " (9, 7),\n",
       " (9, 8),\n",
       " (9, 9)]"
      ]
     },
     "execution_count": 13,
     "metadata": {},
     "output_type": "execute_result"
    }
   ],
   "source": [
    "list(itertools.product(numbers, repeat=2))"
   ]
  },
  {
   "cell_type": "code",
   "execution_count": 19,
   "id": "f87bfaa0",
   "metadata": {},
   "outputs": [
    {
     "data": {
      "text/plain": [
       "{'a': 1, 'b': 2}"
      ]
     },
     "execution_count": 19,
     "metadata": {},
     "output_type": "execute_result"
    }
   ],
   "source": [
    "letters = ['a', 'b']\n",
    "numbers = [1, 2]\n",
    "\n",
    "dict(zip(letters, numbers))"
   ]
  },
  {
   "cell_type": "code",
   "execution_count": 25,
   "id": "91176d3c",
   "metadata": {},
   "outputs": [],
   "source": [
    "def digit_replace(num, k_list, pos_list):\n",
    "    '''\n",
    "        Replaces pth digit (p from a position list) of n with k (from a k_list)\n",
    "    '''\n",
    "    num = str(num)\n",
    "    p_to_k = dict(zip(pos_list, k_list))\n",
    "    new_num = num\n",
    "    \n",
    "    for p in p_to_k:\n",
    "        new_num = new_num[:p-1] + str(p_to_k[p]) + new_num[p:]\n",
    "    \n",
    "    return int(new_num)"
   ]
  },
  {
   "cell_type": "code",
   "execution_count": 27,
   "id": "efd297e5",
   "metadata": {},
   "outputs": [
    {
     "data": {
      "text/plain": [
       "928"
      ]
     },
     "execution_count": 27,
     "metadata": {},
     "output_type": "execute_result"
    }
   ],
   "source": [
    "digit_replace(123, [9, 8], [1, 3])"
   ]
  },
  {
   "cell_type": "code",
   "execution_count": 29,
   "id": "c5fadcdd",
   "metadata": {
    "scrolled": true
   },
   "outputs": [
    {
     "name": "stdout",
     "output_type": "stream",
     "text": [
      "1111999\n",
      "1112999\n",
      "1113999\n",
      "1121999\n",
      "1122999\n",
      "1123999\n",
      "1131999\n",
      "1132999\n",
      "1133999\n",
      "1211999\n",
      "1212999\n",
      "1213999\n",
      "1221999\n",
      "1222999\n",
      "1223999\n",
      "1231999\n",
      "1232999\n",
      "1233999\n",
      "1311999\n",
      "1312999\n",
      "1313999\n",
      "1321999\n",
      "1322999\n",
      "1323999\n",
      "1331999\n",
      "1332999\n",
      "1333999\n",
      "2111999\n",
      "2112999\n",
      "2113999\n",
      "2121999\n",
      "2122999\n",
      "2123999\n",
      "2131999\n",
      "2132999\n",
      "2133999\n",
      "2211999\n",
      "2212999\n",
      "2213999\n",
      "2221999\n",
      "2222999\n",
      "2223999\n",
      "2231999\n",
      "2232999\n",
      "2233999\n",
      "2311999\n",
      "2312999\n",
      "2313999\n",
      "2321999\n",
      "2322999\n",
      "2323999\n",
      "2331999\n",
      "2332999\n",
      "2333999\n",
      "3111999\n",
      "3112999\n",
      "3113999\n",
      "3121999\n",
      "3122999\n",
      "3123999\n",
      "3131999\n",
      "3132999\n",
      "3133999\n",
      "3211999\n",
      "3212999\n",
      "3213999\n",
      "3221999\n",
      "3222999\n",
      "3223999\n",
      "3231999\n",
      "3232999\n",
      "3233999\n",
      "3311999\n",
      "3312999\n",
      "3313999\n",
      "3321999\n",
      "3322999\n",
      "3323999\n",
      "3331999\n",
      "3332999\n",
      "3333999\n"
     ]
    }
   ],
   "source": [
    "import itertools\n",
    "\n",
    "num = 9999999\n",
    "numbers = range(1, 4)\n",
    "\n",
    "for a, b, c, d in itertools.product(numbers, repeat=4):\n",
    "    num = digit_replace(num, [a, b, c, d], [1, 2, 3, 4])\n",
    "    print(num)"
   ]
  },
  {
   "cell_type": "code",
   "execution_count": null,
   "id": "afff3e8b",
   "metadata": {},
   "outputs": [],
   "source": []
  },
  {
   "cell_type": "code",
   "execution_count": 74,
   "id": "b6a66932",
   "metadata": {},
   "outputs": [],
   "source": [
    "def digit_places_check(n, k_list, p_list):\n",
    "    '''\n",
    "        Checks if the k_list of digits is in the right positions from the p_list\n",
    "    '''    \n",
    "    n = str(n)\n",
    "    p_to_k = dict(zip(p_list, k_list))\n",
    "    \n",
    "    for i in p_list:\n",
    "        if n[i-1] != str(p_to_k[i]):\n",
    "            return False\n",
    "        \n",
    "    return True"
   ]
  },
  {
   "cell_type": "code",
   "execution_count": 78,
   "id": "285d623e",
   "metadata": {
    "scrolled": true
   },
   "outputs": [
    {
     "name": "stderr",
     "output_type": "stream",
     "text": [
      "100%|████████████████████████████████████████████████████████████████████████████████████████| 378925615/378925615 [07:42<00:00, 819472.96it/s]"
     ]
    },
    {
     "name": "stdout",
     "output_type": "stream",
     "text": [
      "1929374254627488900\n"
     ]
    },
    {
     "name": "stderr",
     "output_type": "stream",
     "text": [
      "\n"
     ]
    }
   ],
   "source": [
    "start = 1010101010\n",
    "end = 1389026624\n",
    "\n",
    "numbers = [1, 2, 3, 4, 5, 6, 7, 8, 9, 0]\n",
    "pos_list = range(1, 20, 2)\n",
    "\n",
    "for i in tqdm(range(start, end+1)):\n",
    "    if digit_places_check(i**2, numbers, pos_list):\n",
    "        print(i**2)"
   ]
  },
  {
   "cell_type": "code",
   "execution_count": 75,
   "id": "6598b23d",
   "metadata": {},
   "outputs": [
    {
     "data": {
      "text/plain": [
       "True"
      ]
     },
     "execution_count": 75,
     "metadata": {},
     "output_type": "execute_result"
    }
   ],
   "source": [
    "digit_places_check(111234111, [2, 3, 4], [4, 5, 6])"
   ]
  },
  {
   "cell_type": "code",
   "execution_count": 52,
   "id": "e178f031",
   "metadata": {},
   "outputs": [
    {
     "data": {
      "text/plain": [
       "{2: 4, 3: 5, 4: 6}"
      ]
     },
     "execution_count": 52,
     "metadata": {},
     "output_type": "execute_result"
    }
   ],
   "source": [
    "dict(zip([2, 3, 4], [4, 5, 6]))"
   ]
  },
  {
   "cell_type": "code",
   "execution_count": 55,
   "id": "0eb63099",
   "metadata": {},
   "outputs": [
    {
     "data": {
      "text/plain": [
       "'2'"
      ]
     },
     "execution_count": 55,
     "metadata": {},
     "output_type": "execute_result"
    }
   ],
   "source": [
    "n = 123\n",
    "n = str(n)\n",
    "n[1]"
   ]
  },
  {
   "cell_type": "code",
   "execution_count": 56,
   "id": "764c5dd9",
   "metadata": {},
   "outputs": [
    {
     "data": {
      "text/plain": [
       "[0, 1, 2]"
      ]
     },
     "execution_count": 56,
     "metadata": {},
     "output_type": "execute_result"
    }
   ],
   "source": [
    "list(range(len(n)))"
   ]
  },
  {
   "cell_type": "code",
   "execution_count": 79,
   "id": "64e696ec",
   "metadata": {},
   "outputs": [
    {
     "data": {
      "text/plain": [
       "1389019170.0"
      ]
     },
     "execution_count": 79,
     "metadata": {},
     "output_type": "execute_result"
    }
   ],
   "source": [
    "math.sqrt(1929374254627488900)"
   ]
  },
  {
   "cell_type": "code",
   "execution_count": null,
   "id": "296eea08",
   "metadata": {},
   "outputs": [],
   "source": []
  }
 ],
 "metadata": {
  "kernelspec": {
   "display_name": "Python 3 (ipykernel)",
   "language": "python",
   "name": "python3"
  },
  "language_info": {
   "codemirror_mode": {
    "name": "ipython",
    "version": 3
   },
   "file_extension": ".py",
   "mimetype": "text/x-python",
   "name": "python",
   "nbconvert_exporter": "python",
   "pygments_lexer": "ipython3",
   "version": "3.9.7"
  }
 },
 "nbformat": 4,
 "nbformat_minor": 5
}
