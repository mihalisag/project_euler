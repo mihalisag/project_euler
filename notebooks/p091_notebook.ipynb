{
 "cells": [
  {
   "cell_type": "markdown",
   "source": [
    "# Right triangles with integer coordinates"
   ],
   "metadata": {}
  },
  {
   "cell_type": "markdown",
   "source": [
    "- G_t: Points in the grid t x t\n",
    "- K_x: P in Ox\n",
    "- K_y: P in Oy\n",
    "- K_xy: P, Q in Ox, Oy \n",
    "- K_r: P that does not belong in the above classes"
   ],
   "metadata": {}
  },
  {
   "cell_type": "code",
   "execution_count": 3,
   "source": [
    "grid_generator = lambda t: [(x, y) for x in range(0, t + 1) for y in range(0, t + 1)]\n",
    "G_t = grid_generator(2)\n",
    "G_t.remove((0, 0))\n",
    "G_t"
   ],
   "outputs": [
    {
     "output_type": "execute_result",
     "data": {
      "text/plain": [
       "[(0, 1), (0, 2), (1, 0), (1, 1), (1, 2), (2, 0), (2, 1), (2, 2)]"
      ]
     },
     "metadata": {},
     "execution_count": 3
    }
   ],
   "metadata": {}
  },
  {
   "cell_type": "code",
   "execution_count": 4,
   "source": [
    "K_x = [point for point in G_t if point[1] == 0]\n",
    "K_y = [point for point in G_t if point[0] == 0]\n",
    "K_r = [point for point in G_t if point not in K_x and point not in K_y]"
   ],
   "outputs": [],
   "metadata": {}
  },
  {
   "cell_type": "code",
   "execution_count": 5,
   "source": [
    "perp_line = lambda a, b, x, y: b * y == -a*x + a**2 + b**2   "
   ],
   "outputs": [],
   "metadata": {}
  },
  {
   "cell_type": "code",
   "execution_count": 6,
   "source": [
    "perp_line(3, 3, 2, 4)"
   ],
   "outputs": [
    {
     "output_type": "execute_result",
     "data": {
      "text/plain": [
       "True"
      ]
     },
     "metadata": {},
     "execution_count": 6
    }
   ],
   "metadata": {}
  },
  {
   "cell_type": "code",
   "execution_count": 36,
   "source": [
    "# Όχι αυτό\n",
    "\n",
    "O = (0, 0)\n",
    "right_triangles = []\n",
    "a = []\n",
    "b = []\n",
    "\n",
    "for point in G_t:\n",
    "    for point_y in K_y:\n",
    "        if point != point_y and point[1] == point_y[1]:\n",
    "            right_triangles.append([O, point_y, point])\n",
    "    for point_x in K_x:\n",
    "        if point != point_x and point[0] == point_x[0]:\n",
    "            right_triangles.append([O, point_x, point])\n",
    "\n",
    "for point_y in K_y:\n",
    "    for point_x in K_x:\n",
    "        right_triangles.append([O, point_x, point_y])\n",
    "\n",
    "right_triangles\n"
   ],
   "outputs": [
    {
     "output_type": "execute_result",
     "data": {
      "text/plain": [
       "[[(0, 0), (0, 1), (1, 1)],\n",
       " [(0, 0), (1, 0), (1, 1)],\n",
       " [(0, 0), (0, 2), (1, 2)],\n",
       " [(0, 0), (1, 0), (1, 2)],\n",
       " [(0, 0), (0, 1), (2, 1)],\n",
       " [(0, 0), (2, 0), (2, 1)],\n",
       " [(0, 0), (0, 2), (2, 2)],\n",
       " [(0, 0), (2, 0), (2, 2)],\n",
       " [(0, 0), (1, 0), (0, 1)],\n",
       " [(0, 0), (2, 0), (0, 1)],\n",
       " [(0, 0), (1, 0), (0, 2)],\n",
       " [(0, 0), (2, 0), (0, 2)]]"
      ]
     },
     "metadata": {},
     "execution_count": 36
    }
   ],
   "metadata": {}
  },
  {
   "cell_type": "code",
   "execution_count": 9,
   "source": [
    "Ο = (0, 0)\n",
    "G_t = grid_generator(2)\n",
    "G_t.remove(Ο)\n",
    "\n",
    "right_triangles = []\n",
    "\n",
    "for P in G_t:\n",
    "    for Q in G_t:\n",
    "        if Q != P and perp_line(P[0], P[1], Q[0], Q[1]):\n",
    "            right_triangles.append([O, P, Q])\n",
    "\n",
    "for point_y in K_y:\n",
    "    for point_x in K_x:\n",
    "        right_triangles.append([O, point_x, point_y])\n",
    "\n",
    "right_triangles"
   ],
   "outputs": [
    {
     "output_type": "execute_result",
     "data": {
      "text/plain": [
       "[[(0, 0), (0, 1), (1, 1)],\n",
       " [(0, 0), (0, 1), (2, 1)],\n",
       " [(0, 0), (0, 2), (1, 2)],\n",
       " [(0, 0), (0, 2), (2, 2)],\n",
       " [(0, 0), (1, 0), (1, 1)],\n",
       " [(0, 0), (1, 0), (1, 2)],\n",
       " [(0, 0), (1, 1), (0, 2)],\n",
       " [(0, 0), (1, 1), (2, 0)],\n",
       " [(0, 0), (2, 0), (2, 1)],\n",
       " [(0, 0), (2, 0), (2, 2)],\n",
       " [(0, 0), (1, 0), (0, 1)],\n",
       " [(0, 0), (2, 0), (0, 1)],\n",
       " [(0, 0), (1, 0), (0, 2)],\n",
       " [(0, 0), (2, 0), (0, 2)]]"
      ]
     },
     "metadata": {},
     "execution_count": 9
    }
   ],
   "metadata": {}
  },
  {
   "cell_type": "code",
   "execution_count": 10,
   "source": [
    "len(right_triangles)"
   ],
   "outputs": [
    {
     "output_type": "execute_result",
     "data": {
      "text/plain": [
       "14"
      ]
     },
     "metadata": {},
     "execution_count": 10
    }
   ],
   "metadata": {}
  },
  {
   "cell_type": "code",
   "execution_count": 11,
   "source": [
    "import matplotlib.pyplot as plt\n",
    "import numpy as np\n",
    "\n",
    "def initial_plot(max_coor):\n",
    "    '''\n",
    "        Initial plot with coordinate limits\n",
    "    '''\n",
    "    plt.grid(True, linewidth=0.5, color='#000000', linestyle='-')\n",
    "    plt.xticks(np.arange(0, max_coor + 1, 1))\n",
    "    plt.yticks(np.arange(0, max_coor + 1, 1))\n",
    "    plt.gca().set_aspect('equal', adjustable='box')\n",
    "\n",
    "    return plt\n",
    "\n"
   ],
   "outputs": [],
   "metadata": {}
  },
  {
   "cell_type": "code",
   "execution_count": 35,
   "source": [
    "def triangle_plot(points, max_triangle_coor):\n",
    "    '''\n",
    "        Plots triangle from points (e.g. [(0, 0), (1, 0), (1, 1)])\n",
    "    '''\n",
    "    x = np.array([point[0] for point in points])\n",
    "    y = np.array([point[1] for point in points])\n",
    "\n",
    "    plt.plot(x, y)\n",
    "    plt.scatter(x, y)\n",
    "\n",
    "    initial_plot(max_triangle_coor)\n",
    "\n",
    "    return plt\n",
    "\n",
    "\n",
    "triangle_plot([(0, 0), (2, 0), (2, 2), (0, 0)], 2)\n",
    "triangle_plot([(0, 0), (2, 0), (2, 1), (0, 0)], 2)"
   ],
   "outputs": [
    {
     "output_type": "execute_result",
     "data": {
      "text/plain": [
       "<module 'matplotlib.pyplot' from '/home/mike/.local/lib/python3.8/site-packages/matplotlib/pyplot.py'>"
      ]
     },
     "metadata": {},
     "execution_count": 35
    },
    {
     "output_type": "display_data",
     "data": {
      "text/plain": [
       "<Figure size 432x288 with 1 Axes>"
      ],
      "image/png": "[encoded data removed]"
     },
     "metadata": {
      "needs_background": "light"
     }
    }
   ],
   "metadata": {}
  },
  {
   "cell_type": "code",
   "execution_count": 15,
   "source": [
    "plt.figure(1)\n",
    "plt.subplot(221)\n",
    "triangle_plot([(0, 0), (2, 0), (2, 2), (0, 0)])\n",
    "plt.subplot(222)\n",
    "triangle_plot([(0, 0), (2, 0), (2, 1), (0, 0)])\n",
    "plt.subplot(223)\n",
    "plt.plot([1, 2], [2, 4])\n",
    "plt.subplot(224)"
   ],
   "outputs": [
    {
     "output_type": "execute_result",
     "data": {
      "text/plain": [
       "<AxesSubplot:>"
      ]
     },
     "metadata": {},
     "execution_count": 15
    },
    {
     "output_type": "display_data",
     "data": {
      "text/plain": [
       "<Figure size 432x288 with 4 Axes>"
      ],
      "image/png": "[encoded data removed]"
     },
     "metadata": {
      "needs_background": "light"
     }
    }
   ],
   "metadata": {}
  },
  {
   "cell_type": "code",
   "execution_count": 24,
   "source": [
    "import math\n",
    "\n",
    "max_subplots = math.ceil(math.sqrt(len(right_triangles))) ** 2\n",
    "nrows = ncols = int(math.sqrt(max_subplots))\n",
    "\n",
    "max_subplots, nrows, ncols"
   ],
   "outputs": [
    {
     "output_type": "execute_result",
     "data": {
      "text/plain": [
       "(16, 4, 4)"
      ]
     },
     "metadata": {},
     "execution_count": 24
    }
   ],
   "metadata": {}
  },
  {
   "cell_type": "code",
   "execution_count": 27,
   "source": [
    "plt.subplot(2, 2, 1)"
   ],
   "outputs": [
    {
     "output_type": "execute_result",
     "data": {
      "text/plain": [
       "<AxesSubplot:>"
      ]
     },
     "metadata": {},
     "execution_count": 27
    },
    {
     "output_type": "display_data",
     "data": {
      "text/plain": [
       "<Figure size 432x288 with 1 Axes>"
      ],
      "image/png": "[encoded data removed]"
     },
     "metadata": {
      "needs_background": "light"
     }
    }
   ],
   "metadata": {}
  },
  {
   "cell_type": "code",
   "execution_count": 36,
   "source": [
    "max_triangle_coor = max([max(triangle_coor) for triangle_coor in right_triangles])[0]\n",
    "\n",
    "for triangle_coor in right_triangles:\n",
    "    plt.subplot(nrows, ncols, right_triangles.index(triangle_coor) + 1)\n",
    "    triangle_plot(triangle_coor + [(0, 0)], max_triangle_coor)"
   ],
   "outputs": [
    {
     "output_type": "display_data",
     "data": {
      "text/plain": [
       "<Figure size 432x288 with 14 Axes>"
      ],
      "image/png": "[encoded data removed]"
     },
     "metadata": {
      "needs_background": "light"
     }
    }
   ],
   "metadata": {}
  },
  {
   "cell_type": "code",
   "execution_count": 31,
   "source": [
    "max_triangle_coor"
   ],
   "outputs": [
    {
     "output_type": "execute_result",
     "data": {
      "text/plain": [
       "(2, 2)"
      ]
     },
     "metadata": {},
     "execution_count": 31
    }
   ],
   "metadata": {}
  },
  {
   "cell_type": "code",
   "execution_count": null,
   "source": [],
   "outputs": [],
   "metadata": {}
  }
 ],
 "metadata": {
  "orig_nbformat": 4,
  "language_info": {
   "name": "python",
   "version": "3.8.10",
   "mimetype": "text/x-python",
   "codemirror_mode": {
    "name": "ipython",
    "version": 3
   },
   "pygments_lexer": "ipython3",
   "nbconvert_exporter": "python",
   "file_extension": ".py"
  },
  "kernelspec": {
   "name": "python3",
   "display_name": "Python 3.8.10 64-bit"
  },
  "interpreter": {
   "hash": "916dbcbb3f70747c44a77c7bcd40155683ae19c65e1c03b4aa3499c5328201f1"
  }
 },
 "nbformat": 4,
 "nbformat_minor": 2
}