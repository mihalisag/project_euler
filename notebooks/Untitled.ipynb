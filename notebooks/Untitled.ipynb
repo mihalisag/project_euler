{
 "cells": [
  {
   "cell_type": "code",
   "execution_count": null,
   "id": "07f9723d",
   "metadata": {},
   "outputs": [],
   "source": [
    "p"
   ]
  }
 ],
 "metadata": {
  "kernelspec": {
   "display_name": "Python 3 (ipykernel)",
   "language": "python",
   "name": "python3"
  }
 },
 "nbformat": 4,
 "nbformat_minor": 5
}
