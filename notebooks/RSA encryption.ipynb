{
 "cells": [
  {
   "cell_type": "markdown",
   "id": "2c6df359",
   "metadata": {},
   "source": [
    "# RSA encryption"
   ]
  },
  {
   "cell_type": "code",
   "execution_count": 9,
   "id": "21b17bec",
   "metadata": {},
   "outputs": [],
   "source": [
    "p, q = [19, 37]\n",
    "n = p*q\n",
    "phi = (p-1)*(q-1)"
   ]
  },
  {
   "cell_type": "code",
   "execution_count": 18,
   "id": "ba2bc7e1",
   "metadata": {},
   "outputs": [
    {
     "data": {
      "text/plain": [
       "420"
      ]
     },
     "execution_count": 18,
     "metadata": {},
     "output_type": "execute_result"
    }
   ],
   "source": [
    "e = 181\n",
    "m = 420\n",
    "m**e % n"
   ]
  },
  {
   "cell_type": "code",
   "execution_count": 21,
   "id": "45b74349",
   "metadata": {},
   "outputs": [
    {
     "name": "stdout",
     "output_type": "stream",
     "text": [
      "m is unconclealed\n",
      "m is unconclealed\n",
      "m is unconclealed\n",
      "m is unconclealed\n",
      "m is unconclealed\n",
      "m is unconclealed\n",
      "m is unconclealed\n",
      "m is unconclealed\n",
      "m is unconclealed\n"
     ]
    }
   ],
   "source": [
    "e = 183\n",
    "for m in range(703):\n",
    "    if m**e % n == m:\n",
    "        print('m is unconclealed')"
   ]
  },
  {
   "cell_type": "code",
   "execution_count": null,
   "id": "fe0ef7fe",
   "metadata": {},
   "outputs": [],
   "source": []
  }
 ],
 "metadata": {
  "kernelspec": {
   "display_name": "Python 3 (ipykernel)",
   "language": "python",
   "name": "python3"
  },
  "language_info": {
   "codemirror_mode": {
    "name": "ipython",
    "version": 3
   },
   "file_extension": ".py",
   "mimetype": "text/x-python",
   "name": "python",
   "nbconvert_exporter": "python",
   "pygments_lexer": "ipython3",
   "version": "3.9.7"
  }
 },
 "nbformat": 4,
 "nbformat_minor": 5
}
