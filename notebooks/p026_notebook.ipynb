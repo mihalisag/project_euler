{
 "cells": [
  {
   "cell_type": "markdown",
   "metadata": {},
   "source": [
    "# Reciprocal cycles "
   ]
  },
  {
   "cell_type": "code",
   "execution_count": 1,
   "metadata": {},
   "outputs": [
    {
     "name": "stdout",
     "output_type": "stream",
     "text": [
      "1.0\n",
      "0.5\n",
      "0.3333333333333333\n",
      "0.25\n",
      "0.2\n",
      "0.16666666666666666\n",
      "0.14285714285714285\n",
      "0.125\n",
      "0.1111111111111111\n",
      "0.1\n"
     ]
    }
   ],
   "source": [
    "for i in range(1, 11):\n",
    "    print(1 / i)"
   ]
  },
  {
   "cell_type": "code",
   "execution_count": 54,
   "metadata": {},
   "outputs": [
    {
     "name": "stdout",
     "output_type": "stream",
     "text": [
      "[4]\n",
      "[8, 3]\n",
      "1\n"
     ]
    }
   ],
   "source": [
    "D = 1\n",
    "d = 12\n",
    "r_list = [] # list of remainders\n",
    "q_list = [] # list of quotients\n",
    "r = d + 1\n",
    "\n",
    "while r not in r_list:\n",
    "    while D < d:\n",
    "        D = 10 * D\n",
    "    q = D // d\n",
    "    q_list.append(q)\n",
    "    r_list.append(r)\n",
    "    r = D % d\n",
    "    D = r\n",
    "\n",
    "repetend = len(r_list) - r_list.index(r) # steps to reach the same remainder\n",
    "r_list = r_list[1:]\n",
    "\n",
    "print(r_list)\n",
    "print(q_list)\n",
    "print(repetend)"
   ]
  },
  {
   "cell_type": "code",
   "execution_count": 35,
   "metadata": {},
   "outputs": [
    {
     "data": {
      "text/plain": [
       "0.008130081300813009"
      ]
     },
     "execution_count": 35,
     "metadata": {},
     "output_type": "execute_result"
    }
   ],
   "source": [
    "1/123"
   ]
  },
  {
   "cell_type": "code",
   "execution_count": 42,
   "metadata": {},
   "outputs": [
    {
     "data": {
      "text/plain": [
       "0"
      ]
     },
     "execution_count": 42,
     "metadata": {},
     "output_type": "execute_result"
    }
   ],
   "source": [
    "1 // 20"
   ]
  },
  {
   "cell_type": "code",
   "execution_count": 76,
   "metadata": {},
   "outputs": [],
   "source": [
    "def repetend_calculator(D, d):\n",
    "\n",
    "    r_list = [0] # list of remainders\n",
    "    q_list = [] # list of quotients\n",
    "    r = d + 1\n",
    "\n",
    "    while r not in r_list and r != 0: \n",
    "        while D < d:\n",
    "            D = 10 * D\n",
    "        q = D // d\n",
    "        q_list.append(q)\n",
    "        r_list.append(r)\n",
    "        r = D % d\n",
    "        D = r\n",
    "\n",
    "    repetend = len(r_list) - r_list.index(r) # steps to reach the same remainder\n",
    "    r_list = r_list[1:]\n",
    "\n",
    "    return repetend"
   ]
  },
  {
   "cell_type": "code",
   "execution_count": 73,
   "metadata": {},
   "outputs": [
    {
     "name": "stdout",
     "output_type": "stream",
     "text": [
      "[0, 8]\n",
      "[0, 8, 3]\n",
      "[0, 8, 3, 2]\n",
      "[0, 8, 3, 2, 6]\n",
      "[0, 8, 3, 2, 6, 4]\n",
      "[0, 8, 3, 2, 6, 4, 5]\n",
      "[0, 8, 3, 2, 6, 4, 5, 1]\n",
      "6\n"
     ]
    }
   ],
   "source": [
    "r = repetend_calculator(1, 7)\n",
    "print(r)"
   ]
  },
  {
   "cell_type": "code",
   "execution_count": 86,
   "metadata": {},
   "outputs": [
    {
     "name": "stderr",
     "output_type": "stream",
     "text": [
      "100%|██████████| 9997/9997 [02:11<00:00, 76.07it/s]"
     ]
    },
    {
     "name": "stdout",
     "output_type": "stream",
     "text": [
      "8970\n",
      "9967\n"
     ]
    },
    {
     "name": "stderr",
     "output_type": "stream",
     "text": [
      "\n"
     ]
    }
   ],
   "source": [
    "from tqdm import tqdm\n",
    "\n",
    "D = 1\n",
    "M = 0\n",
    "\n",
    "for d in tqdm(range(3, 10000)):\n",
    "    repetend = repetend_calculator(D, d)\n",
    "    if repetend > M:\n",
    "        M = repetend\n",
    "        d_papi = d\n",
    "\n",
    "print(M) \n",
    "print(d_papi)"
   ]
  },
  {
   "cell_type": "code",
   "execution_count": 94,
   "metadata": {},
   "outputs": [
    {
     "name": "stdout",
     "output_type": "stream",
     "text": [
      "{1: 0, 3: 1, 2: 2, 6: 3, 4: 4, 5: 5}\n",
      "7\n"
     ]
    }
   ],
   "source": [
    "# fedyakov\n",
    "\n",
    "def period_length(d):\n",
    "    reminders = {}\n",
    "    r = 1\n",
    "    i = 0\n",
    "    while (r := r % d) not in reminders:\n",
    "        reminders[r] = i\n",
    "        r *= 10\n",
    "        i += 1\n",
    "    print(reminders)\n",
    "    return i - reminders[r]\n",
    "\n",
    "print(max(range(7, 8), key=period_length))"
   ]
  },
  {
   "cell_type": "code",
   "execution_count": 92,
   "metadata": {},
   "outputs": [
    {
     "name": "stdout",
     "output_type": "stream",
     "text": [
      "983\n"
     ]
    }
   ],
   "source": [
    "# Subway_Man\n",
    "\n",
    "def subseq(d):\n",
    "    seq = []\n",
    "    D = 1\n",
    "    while True:\n",
    "        if (D%d) in seq:\n",
    "            return len(seq) - seq.index(D%d)\n",
    "        if not D%d: return 0\n",
    "        seq.append(D%d)\n",
    "        D*=10\n",
    "print(max([*range(3,1000)],key=subseq)) \n"
   ]
  },
  {
   "cell_type": "code",
   "execution_count": null,
   "metadata": {},
   "outputs": [],
   "source": []
  }
 ],
 "metadata": {
  "interpreter": {
   "hash": "9c43a36d7b8512ceb61fd034a63ac9d661c10ba8fe24bae2216705d4e49f1109"
  },
  "kernelspec": {
   "display_name": "Python 3 (ipykernel)",
   "language": "python",
   "name": "python3"
  },
  "language_info": {
   "codemirror_mode": {
    "name": "ipython",
    "version": 3
   },
   "file_extension": ".py",
   "mimetype": "text/x-python",
   "name": "python",
   "nbconvert_exporter": "python",
   "pygments_lexer": "ipython3",
   "version": "3.9.7"
  }
 },
 "nbformat": 4,
 "nbformat_minor": 2
}
