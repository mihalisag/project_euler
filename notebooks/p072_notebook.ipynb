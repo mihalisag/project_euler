{
 "cells": [
  {
   "cell_type": "markdown",
   "id": "5926d02c",
   "metadata": {},
   "source": [
    "# Problem 72 - Counting fractions"
   ]
  },
  {
   "cell_type": "markdown",
   "id": "d4577f86",
   "metadata": {},
   "source": [
    "\n",
    "\n",
    "Consider the fraction, n/d, where n and d are positive integers. If n<d and HCF(n,d)=1, it is called a reduced proper fraction.\n",
    "\n",
    "If we list the set of reduced proper fractions for d ≤ 8 in ascending order of size, we get:\n",
    "\n",
    "1/8, 1/7, 1/6, 1/5, 1/4, 2/7, 1/3, 3/8, 2/5, 3/7, 1/2, 4/7, 3/5, 5/8, 2/3, 5/7, 3/4, 4/5, 5/6, 6/7, 7/8\n",
    "\n",
    "It can be seen that there are 21 elements in this set.\n",
    "\n",
    "How many elements would be contained in the set of reduced proper fractions for d ≤ 1,000,000?\n"
   ]
  },
  {
   "cell_type": "code",
   "execution_count": 1,
   "id": "37319599",
   "metadata": {},
   "outputs": [],
   "source": [
    "import numpy as np"
   ]
  },
  {
   "cell_type": "code",
   "execution_count": 2,
   "id": "e34d1b5b",
   "metadata": {},
   "outputs": [],
   "source": [
    "?? np.gcd"
   ]
  },
  {
   "cell_type": "code",
   "execution_count": 3,
   "id": "ef858552",
   "metadata": {},
   "outputs": [],
   "source": [
    "from tqdm import tqdm"
   ]
  },
  {
   "cell_type": "code",
   "execution_count": 145,
   "id": "3ac08037",
   "metadata": {},
   "outputs": [
    {
     "name": "stderr",
     "output_type": "stream",
     "text": [
      "100%|██████████████████████████████████████████████████████████████████████████████████████████████| 100/100 [00:00<00:00, 31103.48it/s]\n"
     ]
    }
   ],
   "source": [
    "max_d = 10**2\n",
    "fractions = []\n",
    "\n",
    "for d in tqdm(range(1, max_d+1)):\n",
    "    for n in range(1, d):\n",
    "        if np.gcd(n, d) == 1:\n",
    "            fractions.append((n, d))"
   ]
  },
  {
   "cell_type": "code",
   "execution_count": 146,
   "id": "6a044fb7",
   "metadata": {},
   "outputs": [
    {
     "data": {
      "text/plain": [
       "3043"
      ]
     },
     "execution_count": 146,
     "metadata": {},
     "output_type": "execute_result"
    }
   ],
   "source": [
    "len(fractions)"
   ]
  },
  {
   "cell_type": "code",
   "execution_count": 44,
   "id": "adadd6a0",
   "metadata": {},
   "outputs": [
    {
     "ename": "KeyboardInterrupt",
     "evalue": "",
     "output_type": "error",
     "traceback": [
      "\u001b[0;31m---------------------------------------------------------------------------\u001b[0m",
      "\u001b[0;31mKeyboardInterrupt\u001b[0m                         Traceback (most recent call last)",
      "\u001b[0;32m/var/folders/7y/hz3mq04x05sbc72v7q20td7m0000gn/T/ipykernel_3310/359047940.py\u001b[0m in \u001b[0;36m<module>\u001b[0;34m\u001b[0m\n\u001b[1;32m      3\u001b[0m \u001b[0mstart\u001b[0m \u001b[0;34m=\u001b[0m \u001b[0mtime\u001b[0m\u001b[0;34m.\u001b[0m\u001b[0mtime\u001b[0m\u001b[0;34m(\u001b[0m\u001b[0;34m)\u001b[0m\u001b[0;34m\u001b[0m\u001b[0;34m\u001b[0m\u001b[0m\n\u001b[1;32m      4\u001b[0m \u001b[0;32mfor\u001b[0m \u001b[0mi\u001b[0m \u001b[0;32min\u001b[0m \u001b[0mrange\u001b[0m\u001b[0;34m(\u001b[0m\u001b[0;36m1123\u001b[0m\u001b[0;34m,\u001b[0m \u001b[0;36m10123421400\u001b[0m\u001b[0;34m)\u001b[0m\u001b[0;34m:\u001b[0m\u001b[0;34m\u001b[0m\u001b[0;34m\u001b[0m\u001b[0m\n\u001b[0;32m----> 5\u001b[0;31m     \u001b[0mnp\u001b[0m\u001b[0;34m.\u001b[0m\u001b[0mgcd\u001b[0m\u001b[0;34m(\u001b[0m\u001b[0mi\u001b[0m\u001b[0;34m,\u001b[0m \u001b[0;36m12112341898823432\u001b[0m\u001b[0;34m)\u001b[0m\u001b[0;34m\u001b[0m\u001b[0;34m\u001b[0m\u001b[0m\n\u001b[0m\u001b[1;32m      6\u001b[0m \u001b[0;34m\u001b[0m\u001b[0m\n\u001b[1;32m      7\u001b[0m \u001b[0mtime\u001b[0m\u001b[0;34m.\u001b[0m\u001b[0mtime\u001b[0m\u001b[0;34m(\u001b[0m\u001b[0;34m)\u001b[0m \u001b[0;34m-\u001b[0m \u001b[0mstart\u001b[0m\u001b[0;34m\u001b[0m\u001b[0;34m\u001b[0m\u001b[0m\n",
      "\u001b[0;31mKeyboardInterrupt\u001b[0m: "
     ]
    }
   ],
   "source": [
    "import time\n",
    "\n",
    "start = time.time()\n",
    "for i in range(1123, 10123421400):\n",
    "    np.gcd(i, 12112341898823432)\n",
    "\n",
    "time.time() - start"
   ]
  },
  {
   "cell_type": "code",
   "execution_count": 45,
   "id": "fcc8bc44",
   "metadata": {
    "scrolled": true
   },
   "outputs": [
    {
     "data": {
      "text/plain": [
       "[(1, 2),\n",
       " (1, 3),\n",
       " (2, 3),\n",
       " (1, 4),\n",
       " (3, 4),\n",
       " (1, 5),\n",
       " (2, 5),\n",
       " (3, 5),\n",
       " (4, 5),\n",
       " (1, 6),\n",
       " (5, 6),\n",
       " (1, 7),\n",
       " (2, 7),\n",
       " (3, 7),\n",
       " (4, 7),\n",
       " (5, 7),\n",
       " (6, 7),\n",
       " (1, 8),\n",
       " (3, 8),\n",
       " (5, 8),\n",
       " (7, 8),\n",
       " (1, 9),\n",
       " (2, 9),\n",
       " (4, 9),\n",
       " (5, 9),\n",
       " (7, 9),\n",
       " (8, 9),\n",
       " (1, 10),\n",
       " (3, 10),\n",
       " (7, 10),\n",
       " (9, 10)]"
      ]
     },
     "execution_count": 45,
     "metadata": {},
     "output_type": "execute_result"
    }
   ],
   "source": [
    "fractions"
   ]
  },
  {
   "cell_type": "code",
   "execution_count": 66,
   "id": "66f41354",
   "metadata": {},
   "outputs": [],
   "source": [
    "from sympy import sieve, primefactors"
   ]
  },
  {
   "cell_type": "code",
   "execution_count": 74,
   "id": "146ac380",
   "metadata": {},
   "outputs": [
    {
     "data": {
      "text/plain": [
       "0.008040189743041992"
      ]
     },
     "execution_count": 74,
     "metadata": {},
     "output_type": "execute_result"
    }
   ],
   "source": [
    "start = time.time()\n",
    "\n",
    "primes = list(sieve.primerange(1, 10**6))\n",
    "\n",
    "time.time() - start"
   ]
  },
  {
   "cell_type": "code",
   "execution_count": 73,
   "id": "c669b9db",
   "metadata": {},
   "outputs": [
    {
     "data": {
      "text/plain": [
       "13.064822912216187"
      ]
     },
     "execution_count": 73,
     "metadata": {},
     "output_type": "execute_result"
    }
   ],
   "source": [
    "start = time.time()\n",
    "\n",
    "for i in range(1, 10**6):\n",
    "    primefactors(i)\n",
    "    \n",
    "time.time() - start"
   ]
  },
  {
   "cell_type": "code",
   "execution_count": 75,
   "id": "598b5107",
   "metadata": {},
   "outputs": [
    {
     "data": {
      "text/plain": [
       "[2, 5]"
      ]
     },
     "execution_count": 75,
     "metadata": {},
     "output_type": "execute_result"
    }
   ],
   "source": [
    "primefactors(100)"
   ]
  },
  {
   "cell_type": "code",
   "execution_count": 77,
   "id": "8270769b",
   "metadata": {},
   "outputs": [
    {
     "name": "stdout",
     "output_type": "stream",
     "text": [
      "1\n",
      "5\n",
      "25\n",
      "2\n",
      "10\n",
      "50\n",
      "4\n",
      "20\n",
      "100\n",
      "8\n",
      "40\n",
      "16\n",
      "80\n",
      "32\n",
      "64\n"
     ]
    }
   ],
   "source": [
    "for i in range(8):\n",
    "    for j in range(4):\n",
    "        num = 2**i * 5**j\n",
    "        if num <= 100:\n",
    "            print(num)"
   ]
  },
  {
   "cell_type": "code",
   "execution_count": 78,
   "id": "cc9f0964",
   "metadata": {},
   "outputs": [
    {
     "name": "stdout",
     "output_type": "stream",
     "text": [
      "40\n"
     ]
    }
   ],
   "source": [
    "l = []\n",
    "\n",
    "for i in range(1, 101):\n",
    "    if np.gcd(i, 100) == 1:\n",
    "        l.append(i)\n",
    "        \n",
    "print(len(l))"
   ]
  },
  {
   "cell_type": "code",
   "execution_count": null,
   "id": "95b19065",
   "metadata": {},
   "outputs": [],
   "source": [
    "d_max = 10**6"
   ]
  },
  {
   "cell_type": "code",
   "execution_count": 12,
   "id": "168075e7",
   "metadata": {},
   "outputs": [
    {
     "data": {
      "text/plain": [
       "array([[0., 0., 0., ..., 0., 0., 0.],\n",
       "       [0., 0., 0., ..., 0., 0., 0.],\n",
       "       [0., 0., 0., ..., 0., 0., 0.],\n",
       "       ...,\n",
       "       [0., 0., 0., ..., 0., 0., 0.],\n",
       "       [0., 0., 0., ..., 0., 0., 0.],\n",
       "       [0., 0., 0., ..., 0., 0., 0.]])"
      ]
     },
     "execution_count": 12,
     "metadata": {},
     "output_type": "execute_result"
    }
   ],
   "source": [
    "m = np.zeros([d_max, d_max])\n",
    "m"
   ]
  },
  {
   "cell_type": "code",
   "execution_count": 5,
   "id": "6dff5348",
   "metadata": {},
   "outputs": [],
   "source": []
  },
  {
   "cell_type": "code",
   "execution_count": 8,
   "id": "a543357f",
   "metadata": {},
   "outputs": [],
   "source": [
    "from sympy import sieve\n",
    "import math\n",
    "\n",
    "d_max = 11\n",
    "m = np.zeros([d_max, d_max])\n",
    "primes = list(sieve.primerange(1, d_max))\n",
    "\n",
    "for d in range(2, d_max):\n",
    "    if d not in primes:\n",
    "        for n in range(1, d):\n",
    "            if np.gcd(n, d) != 1:\n",
    "                m[n-1, d-1] = 1\n",
    "                for k in range(2, math.floor(d_max/d)):\n",
    "                    m[k*n-1, k*d-1] = 1"
   ]
  },
  {
   "cell_type": "code",
   "execution_count": 9,
   "id": "4bb675e5",
   "metadata": {},
   "outputs": [
    {
     "data": {
      "text/plain": [
       "array([[0., 0., 0., 0., 0., 0., 0., 0., 0., 0., 0.],\n",
       "       [0., 0., 0., 1., 0., 1., 0., 1., 0., 1., 0.],\n",
       "       [0., 0., 0., 0., 0., 1., 0., 0., 1., 0., 0.],\n",
       "       [0., 0., 0., 0., 0., 1., 0., 1., 0., 1., 0.],\n",
       "       [0., 0., 0., 0., 0., 0., 0., 0., 0., 1., 0.],\n",
       "       [0., 0., 0., 0., 0., 0., 0., 1., 1., 1., 0.],\n",
       "       [0., 0., 0., 0., 0., 0., 0., 0., 0., 0., 0.],\n",
       "       [0., 0., 0., 0., 0., 0., 0., 0., 0., 1., 0.],\n",
       "       [0., 0., 0., 0., 0., 0., 0., 0., 0., 0., 0.],\n",
       "       [0., 0., 0., 0., 0., 0., 0., 0., 0., 0., 0.],\n",
       "       [0., 0., 0., 0., 0., 0., 0., 0., 0., 0., 0.]])"
      ]
     },
     "execution_count": 9,
     "metadata": {},
     "output_type": "execute_result"
    }
   ],
   "source": [
    "m"
   ]
  },
  {
   "cell_type": "code",
   "execution_count": 83,
   "id": "7afd0cd3",
   "metadata": {},
   "outputs": [],
   "source": [
    "np.tril(m).fill(1)"
   ]
  },
  {
   "cell_type": "code",
   "execution_count": 84,
   "id": "baf88484",
   "metadata": {},
   "outputs": [
    {
     "data": {
      "text/plain": [
       "array([[0., 0., 0., 0., 0., 0., 0., 0., 0., 0., 0.],\n",
       "       [0., 0., 0., 0., 0., 0., 0., 0., 1., 0., 0.],\n",
       "       [0., 0., 0., 1., 0., 0., 0., 1., 0., 1., 0.],\n",
       "       [0., 0., 0., 0., 0., 0., 0., 0., 1., 0., 0.],\n",
       "       [0., 0., 0., 0., 0., 1., 0., 1., 1., 0., 0.],\n",
       "       [0., 0., 0., 0., 0., 0., 0., 0., 0., 0., 0.],\n",
       "       [0., 0., 0., 0., 0., 0., 0., 1., 1., 1., 0.],\n",
       "       [0., 0., 0., 0., 0., 0., 0., 0., 1., 0., 0.],\n",
       "       [0., 0., 0., 0., 0., 0., 0., 0., 0., 1., 0.],\n",
       "       [0., 0., 0., 0., 0., 0., 0., 0., 0., 0., 0.],\n",
       "       [0., 0., 0., 0., 0., 0., 0., 0., 0., 0., 0.]])"
      ]
     },
     "execution_count": 84,
     "metadata": {},
     "output_type": "execute_result"
    }
   ],
   "source": [
    "m"
   ]
  },
  {
   "cell_type": "code",
   "execution_count": 70,
   "id": "8a4e6a53",
   "metadata": {},
   "outputs": [],
   "source": [
    "t = np.array([[1, 2, 3],\n",
    "             [4, 5, 6],\n",
    "             [7, 8, 9]])\n",
    "\n",
    "np.fill_diagonal(t[3:, :], 8)"
   ]
  },
  {
   "cell_type": "code",
   "execution_count": 71,
   "id": "61ea6fdc",
   "metadata": {},
   "outputs": [
    {
     "data": {
      "text/plain": [
       "array([[1, 2, 3],\n",
       "       [4, 5, 6],\n",
       "       [7, 8, 9]])"
      ]
     },
     "execution_count": 71,
     "metadata": {},
     "output_type": "execute_result"
    }
   ],
   "source": [
    "t"
   ]
  },
  {
   "cell_type": "code",
   "execution_count": 82,
   "id": "85eacca2",
   "metadata": {},
   "outputs": [],
   "source": [
    "def lower_triangular_filler(m, k):\n",
    "    n = len(m)\n",
    "    for i in range(n):\n",
    "        np.fill_diagonal(m[i:, :], k)\n",
    "    return m"
   ]
  },
  {
   "cell_type": "code",
   "execution_count": 73,
   "id": "a1c08ed5",
   "metadata": {},
   "outputs": [
    {
     "data": {
      "text/plain": [
       "array([[0., 0., 0., 0., 0., 0., 0., 0., 0., 0., 0.],\n",
       "       [0., 0., 0., 1., 0., 1., 0., 1., 0., 1., 0.],\n",
       "       [0., 0., 0., 0., 0., 1., 0., 0., 1., 0., 0.],\n",
       "       [0., 0., 0., 0., 0., 1., 0., 1., 0., 1., 0.],\n",
       "       [0., 0., 0., 0., 0., 0., 0., 0., 0., 1., 0.],\n",
       "       [0., 0., 0., 0., 0., 0., 0., 1., 1., 1., 0.],\n",
       "       [0., 0., 0., 0., 0., 0., 0., 0., 0., 0., 0.],\n",
       "       [0., 0., 0., 0., 0., 0., 0., 0., 0., 1., 0.],\n",
       "       [0., 0., 0., 0., 0., 0., 0., 0., 0., 0., 0.],\n",
       "       [0., 0., 0., 0., 0., 0., 0., 0., 0., 0., 0.],\n",
       "       [0., 0., 0., 0., 0., 0., 0., 0., 0., 0., 0.]])"
      ]
     },
     "execution_count": 73,
     "metadata": {},
     "output_type": "execute_result"
    }
   ],
   "source": [
    "m"
   ]
  },
  {
   "cell_type": "code",
   "execution_count": 83,
   "id": "7440ed2d",
   "metadata": {},
   "outputs": [
    {
     "data": {
      "text/plain": [
       "array([[8., 0., 0., 0., 0., 0., 0., 0.],\n",
       "       [8., 8., 0., 1., 0., 1., 0., 0.],\n",
       "       [8., 8., 8., 0., 0., 1., 0., 0.],\n",
       "       [8., 8., 8., 8., 0., 1., 0., 0.],\n",
       "       [8., 8., 8., 8., 8., 0., 0., 0.],\n",
       "       [8., 8., 8., 8., 8., 8., 0., 0.],\n",
       "       [8., 8., 8., 8., 8., 8., 8., 0.],\n",
       "       [8., 8., 8., 8., 8., 8., 8., 8.]])"
      ]
     },
     "execution_count": 83,
     "metadata": {},
     "output_type": "execute_result"
    }
   ],
   "source": [
    "lower_triangular_filler(m, 8)"
   ]
  },
  {
   "cell_type": "markdown",
   "id": "9de8f94e",
   "metadata": {},
   "source": [
    "Correct based on the example in notability"
   ]
  },
  {
   "cell_type": "code",
   "execution_count": 101,
   "id": "511cfdad",
   "metadata": {},
   "outputs": [],
   "source": [
    "from sympy import sieve\n",
    "import math\n",
    "\n",
    "d_max = 8\n",
    "m = np.zeros([d_max, d_max])\n",
    "primes = list(sieve.primerange(1, d_max+1))\n",
    "\n",
    "for d in range(2, d_max+1):\n",
    "    if d not in primes:\n",
    "        for n in range(1, d):\n",
    "            if np.gcd(n, d) != 1:\n",
    "                m[n-1, d-1] = 1\n",
    "                for k in range(2, math.floor(d_max/d)):\n",
    "                    m[k*n-1, k*d-1] = 1"
   ]
  },
  {
   "cell_type": "code",
   "execution_count": 102,
   "id": "5c69b81a",
   "metadata": {},
   "outputs": [
    {
     "data": {
      "text/plain": [
       "array([[0., 0., 0., 0., 0., 0., 0., 0.],\n",
       "       [0., 0., 0., 1., 0., 1., 0., 1.],\n",
       "       [0., 0., 0., 0., 0., 1., 0., 0.],\n",
       "       [0., 0., 0., 0., 0., 1., 0., 1.],\n",
       "       [0., 0., 0., 0., 0., 0., 0., 0.],\n",
       "       [0., 0., 0., 0., 0., 0., 0., 1.],\n",
       "       [0., 0., 0., 0., 0., 0., 0., 0.],\n",
       "       [0., 0., 0., 0., 0., 0., 0., 0.]])"
      ]
     },
     "execution_count": 102,
     "metadata": {},
     "output_type": "execute_result"
    }
   ],
   "source": [
    "m"
   ]
  },
  {
   "cell_type": "code",
   "execution_count": 103,
   "id": "32a2c48c",
   "metadata": {},
   "outputs": [
    {
     "data": {
      "text/plain": [
       "array([[1., 1., 1., 1., 1., 1., 1., 1.],\n",
       "       [1., 1., 1., 0., 1., 0., 1., 0.],\n",
       "       [1., 1., 1., 1., 1., 0., 1., 1.],\n",
       "       [1., 1., 1., 1., 1., 0., 1., 0.],\n",
       "       [1., 1., 1., 1., 1., 1., 1., 1.],\n",
       "       [1., 1., 1., 1., 1., 1., 1., 0.],\n",
       "       [1., 1., 1., 1., 1., 1., 1., 1.],\n",
       "       [1., 1., 1., 1., 1., 1., 1., 1.]])"
      ]
     },
     "execution_count": 103,
     "metadata": {},
     "output_type": "execute_result"
    }
   ],
   "source": [
    "1-m"
   ]
  },
  {
   "cell_type": "code",
   "execution_count": 104,
   "id": "5911690c",
   "metadata": {},
   "outputs": [],
   "source": [
    "new_m = lower_triangular_filler(1-m, 0)"
   ]
  },
  {
   "cell_type": "code",
   "execution_count": 105,
   "id": "3fa89640",
   "metadata": {},
   "outputs": [
    {
     "data": {
      "text/plain": [
       "21.0"
      ]
     },
     "execution_count": 105,
     "metadata": {},
     "output_type": "execute_result"
    }
   ],
   "source": [
    "sum(sum(new_m))"
   ]
  },
  {
   "cell_type": "code",
   "execution_count": 106,
   "id": "4d61f8a6",
   "metadata": {},
   "outputs": [
    {
     "data": {
      "text/plain": [
       "array([[0., 1., 1., 1., 1., 1., 1., 1.],\n",
       "       [0., 0., 1., 0., 1., 0., 1., 0.],\n",
       "       [0., 0., 0., 1., 1., 0., 1., 1.],\n",
       "       [0., 0., 0., 0., 1., 0., 1., 0.],\n",
       "       [0., 0., 0., 0., 0., 1., 1., 1.],\n",
       "       [0., 0., 0., 0., 0., 0., 1., 0.],\n",
       "       [0., 0., 0., 0., 0., 0., 0., 1.],\n",
       "       [0., 0., 0., 0., 0., 0., 0., 0.]])"
      ]
     },
     "execution_count": 106,
     "metadata": {},
     "output_type": "execute_result"
    }
   ],
   "source": [
    "new_m"
   ]
  },
  {
   "cell_type": "markdown",
   "id": "1f8f6c70",
   "metadata": {},
   "source": [
    "## Original"
   ]
  },
  {
   "cell_type": "code",
   "execution_count": 13,
   "id": "d211a2a8",
   "metadata": {},
   "outputs": [
    {
     "name": "stderr",
     "output_type": "stream",
     "text": [
      "100%|██████████████████████████████████████████████████████████████████████████████████████████████████████| 999/999 [00:00<00:00, 2463.67it/s]"
     ]
    },
    {
     "name": "stdout",
     "output_type": "stream",
     "text": [
      "304191.0 0.4141519069671631\n"
     ]
    },
    {
     "name": "stderr",
     "output_type": "stream",
     "text": [
      "\n"
     ]
    }
   ],
   "source": [
    "import time \n",
    "import math\n",
    "import numpy as np\n",
    "from sympy import sieve\n",
    "from tqdm import tqdm\n",
    "\n",
    "start = time.time()\n",
    "\n",
    "d_max = 10**3\n",
    "m = np.zeros([d_max, d_max])\n",
    "primes = list(sieve.primerange(1, d_max+1))\n",
    "\n",
    "def lower_triangular_filler(m, k):\n",
    "    '''\n",
    "        Fills matrix m with k under the diagonal\n",
    "    '''\n",
    "    n = len(m)\n",
    "    for i in range(n):\n",
    "        np.fill_diagonal(m[i:, :], k)\n",
    "    return m\n",
    "\n",
    "for d in tqdm(range(2, d_max+1)):\n",
    "    if d not in primes:\n",
    "        for n in range(1, d):\n",
    "            if m[n-1, d-1] == 0:\n",
    "                if np.gcd(n, d) != 1:\n",
    "                    m[n-1, d-1] = 1\n",
    "                    for k in range(2, math.floor(d_max/d)):\n",
    "                        m[k*n-1, k*d-1] = 1\n",
    "\n",
    "new_m = lower_triangular_filler(1-m, 0)\n",
    "reduced_fractions = sum(sum(new_m))\n",
    "\n",
    "print(reduced_fractions, time.time() - start)"
   ]
  },
  {
   "cell_type": "markdown",
   "id": "307cf232",
   "metadata": {},
   "source": [
    "## not Optimized"
   ]
  },
  {
   "cell_type": "code",
   "execution_count": 16,
   "id": "f95a5ed2",
   "metadata": {},
   "outputs": [
    {
     "name": "stderr",
     "output_type": "stream",
     "text": [
      " 30%|██████████████████████████████▋                                                                         | 295/999 [00:19<00:45, 15.47it/s]\n"
     ]
    },
    {
     "ename": "KeyboardInterrupt",
     "evalue": "",
     "output_type": "error",
     "traceback": [
      "\u001b[0;31m---------------------------------------------------------------------------\u001b[0m",
      "\u001b[0;31mKeyboardInterrupt\u001b[0m                         Traceback (most recent call last)",
      "\u001b[0;32m/var/folders/7y/hz3mq04x05sbc72v7q20td7m0000gn/T/ipykernel_1275/1879685564.py\u001b[0m in \u001b[0;36m<module>\u001b[0;34m\u001b[0m\n\u001b[1;32m     26\u001b[0m         \u001b[0;32mfor\u001b[0m \u001b[0mn\u001b[0m \u001b[0;32min\u001b[0m \u001b[0mrange\u001b[0m\u001b[0;34m(\u001b[0m\u001b[0;36m1\u001b[0m\u001b[0;34m,\u001b[0m \u001b[0md\u001b[0m\u001b[0;34m)\u001b[0m\u001b[0;34m:\u001b[0m\u001b[0;34m\u001b[0m\u001b[0;34m\u001b[0m\u001b[0m\n\u001b[1;32m     27\u001b[0m             \u001b[0;32mif\u001b[0m \u001b[0;34m(\u001b[0m\u001b[0mn\u001b[0m\u001b[0;34m-\u001b[0m\u001b[0;36m1\u001b[0m\u001b[0;34m,\u001b[0m \u001b[0md\u001b[0m\u001b[0;34m-\u001b[0m\u001b[0;36m1\u001b[0m\u001b[0;34m)\u001b[0m \u001b[0;32mnot\u001b[0m \u001b[0;32min\u001b[0m \u001b[0mvisited_indices\u001b[0m\u001b[0;34m:\u001b[0m\u001b[0;34m\u001b[0m\u001b[0;34m\u001b[0m\u001b[0m\n\u001b[0;32m---> 28\u001b[0;31m                 \u001b[0;32mif\u001b[0m \u001b[0mm\u001b[0m\u001b[0;34m[\u001b[0m\u001b[0mn\u001b[0m\u001b[0;34m-\u001b[0m\u001b[0;36m1\u001b[0m\u001b[0;34m,\u001b[0m \u001b[0md\u001b[0m\u001b[0;34m-\u001b[0m\u001b[0;36m1\u001b[0m\u001b[0;34m]\u001b[0m \u001b[0;34m==\u001b[0m \u001b[0;36m0\u001b[0m\u001b[0;34m:\u001b[0m\u001b[0;34m\u001b[0m\u001b[0;34m\u001b[0m\u001b[0m\n\u001b[0m\u001b[1;32m     29\u001b[0m                     \u001b[0;32mif\u001b[0m \u001b[0mnp\u001b[0m\u001b[0;34m.\u001b[0m\u001b[0mgcd\u001b[0m\u001b[0;34m(\u001b[0m\u001b[0mn\u001b[0m\u001b[0;34m,\u001b[0m \u001b[0md\u001b[0m\u001b[0;34m)\u001b[0m \u001b[0;34m!=\u001b[0m \u001b[0;36m1\u001b[0m\u001b[0;34m:\u001b[0m\u001b[0;34m\u001b[0m\u001b[0;34m\u001b[0m\u001b[0m\n\u001b[1;32m     30\u001b[0m                         \u001b[0mm\u001b[0m\u001b[0;34m[\u001b[0m\u001b[0mn\u001b[0m\u001b[0;34m-\u001b[0m\u001b[0;36m1\u001b[0m\u001b[0;34m,\u001b[0m \u001b[0md\u001b[0m\u001b[0;34m-\u001b[0m\u001b[0;36m1\u001b[0m\u001b[0;34m]\u001b[0m \u001b[0;34m=\u001b[0m \u001b[0;36m1\u001b[0m\u001b[0;34m\u001b[0m\u001b[0;34m\u001b[0m\u001b[0m\n",
      "\u001b[0;31mKeyboardInterrupt\u001b[0m: "
     ]
    }
   ],
   "source": [
    "import time \n",
    "import math\n",
    "import numpy as np\n",
    "from sympy import sieve\n",
    "from tqdm import tqdm\n",
    "\n",
    "start = time.time()\n",
    "\n",
    "d_max = 10**3\n",
    "m = np.zeros([d_max, d_max])\n",
    "primes = list(sieve.primerange(1, d_max+1))\n",
    "\n",
    "visited_indices = []\n",
    "\n",
    "def lower_triangular_filler(m, k):\n",
    "    '''\n",
    "        Fills matrix m with k under the diagonal\n",
    "    '''\n",
    "    n = len(m)\n",
    "    for i in range(n):\n",
    "        np.fill_diagonal(m[i:, :], k)\n",
    "    return m\n",
    "\n",
    "for d in tqdm(range(2, d_max+1)):\n",
    "    if d not in primes:\n",
    "        for n in range(1, d):\n",
    "            if (n-1, d-1) not in visited_indices:\n",
    "                if m[n-1, d-1] == 0:\n",
    "                    if np.gcd(n, d) != 1:\n",
    "                        m[n-1, d-1] = 1\n",
    "                        visited_indices.append((n-1, d-1))\n",
    "                        for k in range(2, math.floor(d_max/d)):\n",
    "                            m[k*n-1, k*d-1] = 1\n",
    "                            visited_indices.append((k*n-1, k*d-1))\n",
    "                            \n",
    "new_m = lower_triangular_filler(1-m, 0)\n",
    "reduced_fractions = sum(sum(new_m))\n",
    "\n",
    "print(reduced_fractions, time.time() - start)"
   ]
  },
  {
   "cell_type": "code",
   "execution_count": null,
   "id": "3aef4b44",
   "metadata": {},
   "outputs": [],
   "source": []
  }
 ],
 "metadata": {
  "kernelspec": {
   "display_name": "Python 3 (ipykernel)",
   "language": "python",
   "name": "python3"
  },
  "language_info": {
   "codemirror_mode": {
    "name": "ipython",
    "version": 3
   },
   "file_extension": ".py",
   "mimetype": "text/x-python",
   "name": "python",
   "nbconvert_exporter": "python",
   "pygments_lexer": "ipython3",
   "version": "3.9.7"
  }
 },
 "nbformat": 4,
 "nbformat_minor": 5
}
