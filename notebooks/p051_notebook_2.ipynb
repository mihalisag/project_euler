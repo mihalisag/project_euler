{
 "cells": [
  {
   "cell_type": "code",
   "execution_count": 2,
   "source": [
    "1151 + ((2000-1151) // 110) * 110"
   ],
   "outputs": [
    {
     "output_type": "execute_result",
     "data": {
      "text/plain": [
       "1921"
      ]
     },
     "metadata": {},
     "execution_count": 2
    }
   ],
   "metadata": {}
  },
  {
   "cell_type": "code",
   "execution_count": 3,
   "source": [
    "digits_number = lambda num: len(str(num))"
   ],
   "outputs": [],
   "metadata": {}
  },
  {
   "cell_type": "code",
   "execution_count": 4,
   "source": [
    "first_digit = lambda num: int(str(num)[0])"
   ],
   "outputs": [],
   "metadata": {}
  },
  {
   "cell_type": "code",
   "execution_count": 45,
   "source": [
    "p_digit = lambda num, pos: int(str(num)[pos-1])"
   ],
   "outputs": [],
   "metadata": {}
  },
  {
   "cell_type": "code",
   "execution_count": 47,
   "source": [
    "p_digit(1574, 3)"
   ],
   "outputs": [
    {
     "output_type": "execute_result",
     "data": {
      "text/plain": [
       "7"
      ]
     },
     "metadata": {},
     "execution_count": 47
    }
   ],
   "metadata": {}
  },
  {
   "cell_type": "code",
   "execution_count": 50,
   "source": [
    "def max_next(num, one_number):\n",
    "    \n",
    "    num_digits = digits_number(num)\n",
    "    max_number = num\n",
    "    pos = num_digits - digits_number(one_number)\n",
    "\n",
    "    while p_digit(max_number, pos) == first_digit(num) and digits_number(max_number) <= num_digits:\n",
    "        max_number += one_number\n",
    "\n",
    "    return max_number - one_number\n"
   ],
   "outputs": [],
   "metadata": {}
  },
  {
   "cell_type": "code",
   "execution_count": 53,
   "source": [
    "max_next(2204, 110)"
   ],
   "outputs": [
    {
     "output_type": "execute_result",
     "data": {
      "text/plain": [
       "2974"
      ]
     },
     "metadata": {},
     "execution_count": 53
    }
   ],
   "metadata": {}
  },
  {
   "cell_type": "code",
   "execution_count": 6,
   "source": [
    "def digit_replacer(num, pos, new_digit):\n",
    "    \n",
    "    num = [str(i) for i in list(str(num))]\n",
    "    num[pos] = str(new_digit)\n",
    "    num = int(''.join(num))\n",
    "\n",
    "    return num"
   ],
   "outputs": [],
   "metadata": {}
  },
  {
   "cell_type": "code",
   "execution_count": 7,
   "source": [
    "''.join(['1', '2', '3'])"
   ],
   "outputs": [
    {
     "output_type": "execute_result",
     "data": {
      "text/plain": [
       "'123'"
      ]
     },
     "metadata": {},
     "execution_count": 7
    }
   ],
   "metadata": {}
  },
  {
   "cell_type": "code",
   "execution_count": 8,
   "source": [
    "digit_replacer(1234, 3, 5)"
   ],
   "outputs": [
    {
     "output_type": "execute_result",
     "data": {
      "text/plain": [
       "1235"
      ]
     },
     "metadata": {},
     "execution_count": 8
    }
   ],
   "metadata": {}
  },
  {
   "cell_type": "code",
   "execution_count": 9,
   "source": [
    "max_next(1151, 10010)"
   ],
   "outputs": [
    {
     "output_type": "execute_result",
     "data": {
      "text/plain": [
       "2000000"
      ]
     },
     "metadata": {},
     "execution_count": 9
    }
   ],
   "metadata": {}
  },
  {
   "cell_type": "code",
   "execution_count": 10,
   "source": [
    "def ones(n):\n",
    "    '''\n",
    "        n = 4: [[1, 1, 1, 0], [1, 1, 0, 0], [1, 0, 0, 0]]\n",
    "    '''\n",
    "    \n",
    "    zeros = n * [0]\n",
    "    pos_list = []\n",
    "\n",
    "    for i in range(n):\n",
    "        a = len(zeros[i:])\n",
    "        b = n - len(zeros[i:])\n",
    "        pos =  a*[1] + b*[0]\n",
    "        pos_list.append(pos)\n",
    "\n",
    "    return pos_list"
   ],
   "outputs": [],
   "metadata": {}
  },
  {
   "cell_type": "code",
   "execution_count": 11,
   "source": [
    "def possible_digits_replacements(n):\n",
    "    '''\n",
    "        n = 4: [10, 100, 110, 1000, 1010, 1100, 1110]\n",
    "    '''\n",
    "    \n",
    "    pos_list = ones(n - 1)\n",
    "    per_list = []\n",
    "\n",
    "    for pos in pos_list:\n",
    "        one_per = list(permutations(pos, n - 1))\n",
    "        \n",
    "        for per in one_per:\n",
    "            new_per = list(per) + [0]\n",
    "            if new_per not in per_list:\n",
    "                per_list.append(new_per) \n",
    "\n",
    "    diff_list = []\n",
    "    for per in per_list:\n",
    "        per = [str(i) for i in per]\n",
    "        diff_list.append(int(''.join(per)))\n",
    "\n",
    "    diff_list.sort()\n",
    "\n",
    "    return diff_list"
   ],
   "outputs": [],
   "metadata": {}
  },
  {
   "cell_type": "code",
   "execution_count": 70,
   "source": [
    "from my_primes import eratosthenes_sieve\n",
    "from itertools import permutations\n",
    "\n",
    "MAX = 10 ** 3\n",
    "sieve = eratosthenes_sieve(MAX)\n",
    "sieve.remove(2)\n",
    "sieve.remove(5)\n",
    "\n",
    "digits_number = lambda num: len(str(num))\n",
    "\n",
    "max_digits = len(str(MAX))\n",
    "\n",
    "# Intervals with specific number of digits\n",
    "interval_dict = {}\n",
    "for j in range(1, max_digits):\n",
    "    interval_dict['I_' + str(j)] = range(10 ** (j-1), (10 ** j) - 1)\n",
    "\n",
    "# Dictionary with primes which are ordered \n",
    "main_dict = {}\n",
    "for i in range(1, max_digits):\n",
    "    main_dict['I_' + str(i)] = set()\n",
    "\n",
    "for prime in sieve:\n",
    "    main_dict['I_' + str(digits_number(prime))].add(prime)\n",
    "\n",
    "last_digit_family = lambda num: 'e_' + str(int(str(num)[-1]))\n",
    "digits_number_family  = lambda num: 'I_' + str(len(str(num)))\n",
    "\n",
    "# Dictionary with primes which are ordered \n",
    "digit_num_dict = {}\n",
    "for i in range(1, max_digits):\n",
    "    digit_num_dict['I_' + str(i)] = set()\n",
    "\n",
    "for prime in sieve:\n",
    "    digit_num_dict['I_' + str(digits_number(prime))].add(prime)\n",
    "\n",
    "for digit_family_name in digit_num_dict:\n",
    "    prime_interval = digit_num_dict[digit_family_name]\n",
    "    end_dict = {('e_' + str(num)) : [] for num in [1, 3, 7, 9]}\n",
    "\n",
    "    for prime in prime_interval:\n",
    "        end_dict[last_digit_family(prime)].append(prime)\n",
    "        end_dict[last_digit_family(prime)].sort()\n",
    "\n",
    "    digit_num_dict[digits_number_family(prime)] = end_dict\n",
    "\n",
    "digit_num_dict.pop('I_1')"
   ],
   "outputs": [
    {
     "output_type": "execute_result",
     "data": {
      "text/plain": [
       "{'e_1': [], 'e_3': [3], 'e_7': [7], 'e_9': []}"
      ]
     },
     "metadata": {},
     "execution_count": 70
    }
   ],
   "metadata": {}
  },
  {
   "cell_type": "code",
   "execution_count": 13,
   "source": [
    "digit_num_dict"
   ],
   "outputs": [
    {
     "output_type": "execute_result",
     "data": {
      "text/plain": [
       "{'I_2': {'e_1': [11, 31, 41, 61, 71],\n",
       "  'e_3': [13, 23, 43, 53, 73, 83],\n",
       "  'e_7': [17, 37, 47, 67, 97],\n",
       "  'e_9': [19, 29, 59, 79, 89]},\n",
       " 'I_3': {'e_1': [101,\n",
       "   131,\n",
       "   151,\n",
       "   181,\n",
       "   191,\n",
       "   211,\n",
       "   241,\n",
       "   251,\n",
       "   271,\n",
       "   281,\n",
       "   311,\n",
       "   331,\n",
       "   401,\n",
       "   421,\n",
       "   431,\n",
       "   461,\n",
       "   491,\n",
       "   521,\n",
       "   541,\n",
       "   571,\n",
       "   601,\n",
       "   631,\n",
       "   641,\n",
       "   661,\n",
       "   691,\n",
       "   701,\n",
       "   751,\n",
       "   761,\n",
       "   811,\n",
       "   821,\n",
       "   881,\n",
       "   911,\n",
       "   941,\n",
       "   971,\n",
       "   991],\n",
       "  'e_3': [103,\n",
       "   113,\n",
       "   163,\n",
       "   173,\n",
       "   193,\n",
       "   223,\n",
       "   233,\n",
       "   263,\n",
       "   283,\n",
       "   293,\n",
       "   313,\n",
       "   353,\n",
       "   373,\n",
       "   383,\n",
       "   433,\n",
       "   443,\n",
       "   463,\n",
       "   503,\n",
       "   523,\n",
       "   563,\n",
       "   593,\n",
       "   613,\n",
       "   643,\n",
       "   653,\n",
       "   673,\n",
       "   683,\n",
       "   733,\n",
       "   743,\n",
       "   773,\n",
       "   823,\n",
       "   853,\n",
       "   863,\n",
       "   883,\n",
       "   953,\n",
       "   983],\n",
       "  'e_7': [107,\n",
       "   127,\n",
       "   137,\n",
       "   157,\n",
       "   167,\n",
       "   197,\n",
       "   227,\n",
       "   257,\n",
       "   277,\n",
       "   307,\n",
       "   317,\n",
       "   337,\n",
       "   347,\n",
       "   367,\n",
       "   397,\n",
       "   457,\n",
       "   467,\n",
       "   487,\n",
       "   547,\n",
       "   557,\n",
       "   577,\n",
       "   587,\n",
       "   607,\n",
       "   617,\n",
       "   647,\n",
       "   677,\n",
       "   727,\n",
       "   757,\n",
       "   787,\n",
       "   797,\n",
       "   827,\n",
       "   857,\n",
       "   877,\n",
       "   887,\n",
       "   907,\n",
       "   937,\n",
       "   947,\n",
       "   967,\n",
       "   977,\n",
       "   997],\n",
       "  'e_9': [109,\n",
       "   139,\n",
       "   149,\n",
       "   179,\n",
       "   199,\n",
       "   229,\n",
       "   239,\n",
       "   269,\n",
       "   349,\n",
       "   359,\n",
       "   379,\n",
       "   389,\n",
       "   409,\n",
       "   419,\n",
       "   439,\n",
       "   449,\n",
       "   479,\n",
       "   499,\n",
       "   509,\n",
       "   569,\n",
       "   599,\n",
       "   619,\n",
       "   659,\n",
       "   709,\n",
       "   719,\n",
       "   739,\n",
       "   769,\n",
       "   809,\n",
       "   829,\n",
       "   839,\n",
       "   859,\n",
       "   919,\n",
       "   929]}}"
      ]
     },
     "metadata": {},
     "execution_count": 13
    }
   ],
   "metadata": {}
  },
  {
   "cell_type": "code",
   "execution_count": 71,
   "source": [
    "import numpy as np\n",
    "\n",
    "max_prime_dict = {}\n",
    "one_number_list = possible_digits_replacements(4)\n",
    "\n",
    "for interval in list(digit_num_dict.values())[1:]:\n",
    "    for ending in interval.values():\n",
    "        ending = np.array(ending)\n",
    "        for prime in ending:\n",
    "            if '0' or '1' or '2' in str(prime):\n",
    "                max_prime_dict.update({prime : {}})\n",
    "                for one_number in one_number_list:\n",
    "                    max_pos_prime = max_next(prime, one_number)\n",
    "                    max_prime_index = sum(ending < max_pos_prime) - 1\n",
    "                    max_prime = ending[max_prime_index]\n",
    "                    max_prime_dict[prime].update({one_number : max_prime})\n",
    "\n",
    "max_prime_dict"
   ],
   "outputs": [],
   "metadata": {}
  },
  {
   "cell_type": "code",
   "execution_count": 29,
   "source": [
    "one_number_class = lambda first_prime, second_prime, one_number : (first_prime - second_prime) % one_number == 0"
   ],
   "outputs": [],
   "metadata": {}
  },
  {
   "cell_type": "code",
   "execution_count": 59,
   "source": [
    "for one_number in one_number_list:\n",
    "    for interval in list(digit_num_dict.values())[1:]:\n",
    "        for ending in interval.values():\n",
    "            for prime in ending:\n",
    "                start_index, finish_index = [ending.index(prime), ending.index(max_prime_dict[prime][one_number])]\n",
    "                first_prime = ending[start_index]\n",
    "                temp_set = set([first_prime])\n",
    "                for i in range(start_index, finish_index + 1):\n",
    "                    second_prime = ending[i]\n",
    "                    if one_number_class(first_prime, second_prime, one_number):\n",
    "                        temp_set.add(second_prime)\n",
    "                temp_list = list(temp_set)\n",
    "                temp_list.sort()\n",
    "                if len(temp_list) >= 4:\n",
    "                    print(temp_list)"
   ],
   "outputs": [
    {
     "output_type": "stream",
     "name": "stdout",
     "text": [
      "[101, 131, 151, 181]\n",
      "[211, 241, 251, 271, 281]\n",
      "[241, 251, 271, 281]\n",
      "[401, 421, 431, 461]\n",
      "[601, 631, 641, 661]\n",
      "[103, 113, 163, 173]\n",
      "[223, 233, 263, 283]\n",
      "[313, 353, 373, 383]\n",
      "[613, 643, 653, 673, 683]\n",
      "[643, 653, 673, 683]\n",
      "[823, 853, 863, 883]\n",
      "[107, 127, 137, 157, 167]\n",
      "[127, 137, 157, 167]\n",
      "[307, 317, 337, 347, 367]\n",
      "[317, 337, 347, 367]\n",
      "[547, 557, 577, 587]\n",
      "[607, 617, 647, 677]\n",
      "[827, 857, 877, 887]\n",
      "[907, 937, 947, 967, 977]\n",
      "[937, 947, 967, 977]\n",
      "[109, 139, 149, 179]\n",
      "[349, 359, 379, 389]\n",
      "[409, 419, 439, 449, 479]\n",
      "[419, 439, 449, 479]\n",
      "[709, 719, 739, 769]\n",
      "[809, 829, 839, 859]\n",
      "[101, 401, 601, 701]\n",
      "[131, 331, 431, 631]\n",
      "[163, 263, 463, 563, 863]\n",
      "[173, 373, 673, 773]\n",
      "[107, 307, 607, 907]\n",
      "[127, 227, 727, 827]\n",
      "[157, 257, 457, 557, 757, 857]\n",
      "[167, 367, 467, 967]\n",
      "[197, 397, 797, 997]\n",
      "[109, 409, 509, 709, 809]\n",
      "[139, 239, 439, 739, 839]\n",
      "[101, 211, 431, 541, 761]\n",
      "[131, 241, 461, 571]\n",
      "[211, 431, 541, 761]\n",
      "[103, 433, 653, 983]\n",
      "[113, 223, 443, 773, 883]\n",
      "[173, 283, 503, 613]\n",
      "[193, 523, 743, 853]\n",
      "[127, 347, 457, 677, 787]\n",
      "[137, 467, 577, 797, 907]\n",
      "[167, 277, 607, 827, 937]\n",
      "[197, 307, 857, 967]\n",
      "[109, 439, 659, 769]\n",
      "[149, 479, 809, 919]\n",
      "[179, 509, 619, 839]\n"
     ]
    }
   ],
   "metadata": {}
  },
  {
   "cell_type": "code",
   "execution_count": 14,
   "source": [
    "possible_digits_replacements(5)"
   ],
   "outputs": [
    {
     "output_type": "execute_result",
     "data": {
      "text/plain": [
       "[10,\n",
       " 100,\n",
       " 110,\n",
       " 1000,\n",
       " 1010,\n",
       " 1100,\n",
       " 1110,\n",
       " 10000,\n",
       " 10010,\n",
       " 10100,\n",
       " 10110,\n",
       " 11000,\n",
       " 11010,\n",
       " 11100,\n",
       " 11110]"
      ]
     },
     "metadata": {},
     "execution_count": 14
    }
   ],
   "metadata": {}
  },
  {
   "cell_type": "code",
   "execution_count": 11,
   "source": [
    "import numpy as np"
   ],
   "outputs": [],
   "metadata": {}
  },
  {
   "cell_type": "code",
   "execution_count": 22,
   "source": [
    "prime_list = np.array([11, 21, 31, 41, 71, 91])"
   ],
   "outputs": [],
   "metadata": {}
  },
  {
   "cell_type": "code",
   "execution_count": 23,
   "source": [
    "prime_list < 70"
   ],
   "outputs": [
    {
     "output_type": "execute_result",
     "data": {
      "text/plain": [
       "array([ True,  True,  True,  True, False, False])"
      ]
     },
     "metadata": {},
     "execution_count": 23
    }
   ],
   "metadata": {}
  },
  {
   "cell_type": "code",
   "execution_count": 16,
   "source": [
    "sum(prime_list < 70)"
   ],
   "outputs": [
    {
     "output_type": "execute_result",
     "data": {
      "text/plain": [
       "4"
      ]
     },
     "metadata": {},
     "execution_count": 16
    }
   ],
   "metadata": {}
  },
  {
   "cell_type": "code",
   "execution_count": 26,
   "source": [
    "prime_list[sum(prime_list < 70) - 1]"
   ],
   "outputs": [
    {
     "output_type": "execute_result",
     "data": {
      "text/plain": [
       "41"
      ]
     },
     "metadata": {},
     "execution_count": 26
    }
   ],
   "metadata": {}
  },
  {
   "cell_type": "code",
   "execution_count": 51,
   "source": [
    " max_prime_dict = {5 : {}}"
   ],
   "outputs": [],
   "metadata": {}
  },
  {
   "cell_type": "code",
   "execution_count": 54,
   "source": [
    "max_prime_dict[5].update({10: [1, 2]})"
   ],
   "outputs": [],
   "metadata": {}
  },
  {
   "cell_type": "code",
   "execution_count": 13,
   "source": [
    "possible_digits_replacements(3)"
   ],
   "outputs": [
    {
     "output_type": "execute_result",
     "data": {
      "text/plain": [
       "[10, 100, 110]"
      ]
     },
     "metadata": {},
     "execution_count": 13
    }
   ],
   "metadata": {}
  },
  {
   "cell_type": "code",
   "execution_count": 21,
   "source": [
    "max_next(140, 1101)"
   ],
   "outputs": [
    {
     "output_type": "execute_result",
     "data": {
      "text/plain": [
       "10000"
      ]
     },
     "metadata": {},
     "execution_count": 21
    }
   ],
   "metadata": {}
  },
  {
   "cell_type": "code",
   "execution_count": null,
   "source": [],
   "outputs": [],
   "metadata": {}
  }
 ],
 "metadata": {
  "orig_nbformat": 4,
  "language_info": {
   "name": "python"
  }
 },
 "nbformat": 4,
 "nbformat_minor": 2
}