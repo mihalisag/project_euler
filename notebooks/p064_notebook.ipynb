{
 "cells": [
  {
   "cell_type": "markdown",
   "id": "9d95dce4",
   "metadata": {},
   "source": [
    "# Problem 64 - Odd period square roots"
   ]
  },
  {
   "cell_type": "code",
   "execution_count": 22,
   "id": "938d326d",
   "metadata": {},
   "outputs": [],
   "source": [
    "import math\n",
    "\n",
    "def continued_fraction_old(n):\n",
    "    '''\n",
    "        Returns the terms of the continued fraction expansion\n",
    "    '''\n",
    "    r = n\n",
    "    f = 1\n",
    "    terms = []\n",
    "    \n",
    "    while f >= 1e-10:\n",
    "        a_i = math.floor(r)\n",
    "        terms.append(a_i)\n",
    "        if a_i == r:\n",
    "            return [n]\n",
    "        if a_i == 2 * math.floor(n):\n",
    "            return terms  \n",
    "        f = r - a_i\n",
    "        r = 1 / f\n",
    "        \n",
    "    return terms"
   ]
  },
  {
   "cell_type": "code",
   "execution_count": 13,
   "id": "710e0259",
   "metadata": {},
   "outputs": [
    {
     "data": {
      "text/plain": [
       "[2, 4]"
      ]
     },
     "execution_count": 13,
     "metadata": {},
     "output_type": "execute_result"
    }
   ],
   "source": [
    "continued_fraction(math.sqrt(5))"
   ]
  },
  {
   "cell_type": "code",
   "execution_count": 57,
   "id": "b2834c45",
   "metadata": {},
   "outputs": [],
   "source": [
    "from tqdm import tqdm"
   ]
  },
  {
   "cell_type": "code",
   "execution_count": 25,
   "id": "4ea8c691",
   "metadata": {},
   "outputs": [],
   "source": [
    "count = 0\n",
    "MAX = 10_000 + 1\n",
    "\n",
    "for i in range(2, MAX):\n",
    "    if period(continued_fraction(math.sqrt(i))) % 2 == 1:\n",
    "        count+=1"
   ]
  },
  {
   "cell_type": "code",
   "execution_count": 26,
   "id": "bfa1ad91",
   "metadata": {},
   "outputs": [
    {
     "data": {
      "text/plain": [
       "4"
      ]
     },
     "execution_count": 26,
     "metadata": {},
     "output_type": "execute_result"
    }
   ],
   "source": [
    "count"
   ]
  },
  {
   "cell_type": "code",
   "execution_count": 17,
   "id": "60b0c87f",
   "metadata": {},
   "outputs": [
    {
     "data": {
      "text/plain": [
       "[4, 1, 3, 1, 8]"
      ]
     },
     "execution_count": 17,
     "metadata": {},
     "output_type": "execute_result"
    }
   ],
   "source": [
    "continued_fraction(math.sqrt(23))"
   ]
  },
  {
   "cell_type": "code",
   "execution_count": 72,
   "id": "cff82505",
   "metadata": {},
   "outputs": [
    {
     "data": {
      "text/plain": [
       "2.1374058560414317"
      ]
     },
     "execution_count": 72,
     "metadata": {},
     "output_type": "execute_result"
    }
   ],
   "source": [
    "1/0.46785686357762835"
   ]
  },
  {
   "cell_type": "code",
   "execution_count": 74,
   "id": "321d6fbf",
   "metadata": {},
   "outputs": [
    {
     "data": {
      "text/plain": [
       "7.277710199618216"
      ]
     },
     "execution_count": 74,
     "metadata": {},
     "output_type": "execute_result"
    }
   ],
   "source": [
    "1 / (2.1374058560414317 - 2)"
   ]
  },
  {
   "cell_type": "code",
   "execution_count": 18,
   "id": "2553640c",
   "metadata": {
    "scrolled": true
   },
   "outputs": [
    {
     "data": {
      "text/plain": [
       "[22,\n",
       " 2,\n",
       " 1,\n",
       " 1,\n",
       " 1,\n",
       " 1,\n",
       " 3,\n",
       " 8,\n",
       " 1,\n",
       " 2,\n",
       " 10,\n",
       " 1,\n",
       " 5,\n",
       " 2,\n",
       " 14,\n",
       " 2,\n",
       " 6,\n",
       " 2,\n",
       " 7,\n",
       " 3,\n",
       " 1,\n",
       " 1,\n",
       " 1,\n",
       " 1,\n",
       " 45,\n",
       " 16,\n",
       " 2,\n",
       " 6,\n",
       " 3,\n",
       " 2,\n",
       " 9,\n",
       " 3,\n",
       " 1,\n",
       " 3,\n",
       " 1,\n",
       " 3,\n",
       " 3,\n",
       " 2,\n",
       " 25,\n",
       " 1,\n",
       " 1,\n",
       " 1,\n",
       " 1,\n",
       " 2,\n",
       " 4,\n",
       " 4,\n",
       " 1,\n",
       " 3,\n",
       " 3,\n",
       " 1969,\n",
       " 1,\n",
       " 47,\n",
       " 5,\n",
       " 1,\n",
       " 1,\n",
       " 5,\n",
       " 1,\n",
       " 1132,\n",
       " 1,\n",
       " 1,\n",
       " 1,\n",
       " 2,\n",
       " 6,\n",
       " 3,\n",
       " 1,\n",
       " 2,\n",
       " 8,\n",
       " 1,\n",
       " 49,\n",
       " 1,\n",
       " 6,\n",
       " 2,\n",
       " 3,\n",
       " 1,\n",
       " 6,\n",
       " 1,\n",
       " 57,\n",
       " 2,\n",
       " 15,\n",
       " 3,\n",
       " 44]"
      ]
     },
     "execution_count": 18,
     "metadata": {},
     "output_type": "execute_result"
    }
   ],
   "source": [
    "continued_fraction(math.sqrt(501))"
   ]
  },
  {
   "cell_type": "code",
   "execution_count": 12,
   "id": "c09c96a2",
   "metadata": {
    "scrolled": false
   },
   "outputs": [
    {
     "name": "stderr",
     "output_type": "stream",
     "text": [
      "100%|███████████████████████████████████████████████████████████████████████████████████████████████| 9999/9999 [02:44<00:00, 60.66it/s]\n"
     ]
    }
   ],
   "source": [
    "import math\n",
    "from sympy.ntheory.continued_fraction import continued_fraction\n",
    "from sympy import sqrt\n",
    "from tqdm import tqdm\n",
    "\n",
    "count = 0\n",
    "MAX = 10_000 + 1\n",
    "\n",
    "for i in tqdm(range(2, MAX)):\n",
    "    l = continued_fraction(sqrt(i))\n",
    "    if len(l) >= 2:\n",
    "        if len(l[1]) % 2 == 1:\n",
    "            count+=1"
   ]
  },
  {
   "cell_type": "code",
   "execution_count": 13,
   "id": "48b1e794",
   "metadata": {},
   "outputs": [
    {
     "data": {
      "text/plain": [
       "1322"
      ]
     },
     "execution_count": 13,
     "metadata": {},
     "output_type": "execute_result"
    }
   ],
   "source": [
    "count"
   ]
  },
  {
   "cell_type": "code",
   "execution_count": 14,
   "id": "4cac0de7",
   "metadata": {},
   "outputs": [
    {
     "data": {
      "text/plain": [
       "1"
      ]
     },
     "execution_count": 14,
     "metadata": {},
     "output_type": "execute_result"
    }
   ],
   "source": [
    "len(continued_fraction(sqrt(2))[1])"
   ]
  },
  {
   "cell_type": "code",
   "execution_count": null,
   "id": "2692621a",
   "metadata": {},
   "outputs": [],
   "source": []
  }
 ],
 "metadata": {
  "kernelspec": {
   "display_name": "Python 3 (ipykernel)",
   "language": "python",
   "name": "python3"
  },
  "language_info": {
   "codemirror_mode": {
    "name": "ipython",
    "version": 3
   },
   "file_extension": ".py",
   "mimetype": "text/x-python",
   "name": "python",
   "nbconvert_exporter": "python",
   "pygments_lexer": "ipython3",
   "version": "3.9.7"
  }
 },
 "nbformat": 4,
 "nbformat_minor": 5
}
